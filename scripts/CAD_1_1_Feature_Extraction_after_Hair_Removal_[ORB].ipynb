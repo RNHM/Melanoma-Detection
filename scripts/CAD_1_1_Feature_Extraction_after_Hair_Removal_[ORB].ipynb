{
  "nbformat": 4,
  "nbformat_minor": 0,
  "metadata": {
    "colab": {
      "name": "CAD_1_1: Feature Extraction after Hair Removal [ORB].ipynb",
      "provenance": [],
      "collapsed_sections": []
    },
    "kernelspec": {
      "name": "python3",
      "display_name": "Python 3"
    },
    "language_info": {
      "name": "python"
    }
  },
  "cells": [
    {
      "cell_type": "code",
      "metadata": {
        "id": "OWoIbttKJQDI"
      },
      "source": [
        "from google.colab import drive\n",
        "import numpy as np\n",
        "import cv2\n",
        "import pandas as pd\n",
        "import matplotlib.pyplot as plt\n",
        "import os\n",
        "from tqdm import tqdm\n",
        "import csv\n",
        "\n",
        "from sklearn.cluster import MiniBatchKMeans\n",
        "from sklearn.neural_network import MLPClassifier\n",
        "from sklearn.ensemble import RandomForestClassifier\n",
        "from sklearn.svm import SVC"
      ],
      "execution_count": null,
      "outputs": []
    },
    {
      "cell_type": "code",
      "metadata": {
        "colab": {
          "base_uri": "https://localhost:8080/"
        },
        "id": "jddSkxkdd_fk",
        "outputId": "b891a0f5-b316-44b3-e992-185c02cde491"
      },
      "source": [
        "drive.mount('/drive') "
      ],
      "execution_count": null,
      "outputs": [
        {
          "output_type": "stream",
          "name": "stdout",
          "text": [
            "Mounted at /drive\n"
          ]
        }
      ]
    },
    {
      "cell_type": "code",
      "metadata": {
        "id": "JDLO55B6eA7R"
      },
      "source": [
        "train_Les = np.load('/drive/My Drive/CAD_1_1/train_Les_hairRemoved.npz',allow_pickle=True)\n",
        "train_NV  = np.load('/drive/My Drive/CAD_1_1/train_NV_hairRemoved.npz',allow_pickle=True)\n",
        "val_Les   = np.load('/drive/My Drive/CAD_1_1/val_Les_hairRemoved.npz',allow_pickle=True)\n",
        "val_NV    = np.load('/drive/My Drive/CAD_1_1/val_NV_hairRemoved.npz',allow_pickle=True)\n"
      ],
      "execution_count": null,
      "outputs": []
    },
    {
      "cell_type": "code",
      "metadata": {
        "id": "0fgdqB4ufABU"
      },
      "source": [
        "trainX_Les  = np.array(train_Les['arr_0'])\n",
        "trainX_NV   = np.array(train_NV['arr_0'])\n",
        "valX_Les    = np.array(val_Les['arr_0'])\n",
        "valX_NV     = np.array(val_NV['arr_0'])"
      ],
      "execution_count": null,
      "outputs": []
    },
    {
      "cell_type": "code",
      "metadata": {
        "colab": {
          "base_uri": "https://localhost:8080/"
        },
        "id": "Fa0H2zORiR7N",
        "outputId": "0fb81ddd-f343-4f21-f95c-702b0feffc36"
      },
      "source": [
        "print(trainX_Les.shape)\n",
        "print(trainX_NV.shape)\n",
        "print(valX_Les.shape)\n",
        "print(valX_NV.shape)"
      ],
      "execution_count": null,
      "outputs": [
        {
          "output_type": "stream",
          "name": "stdout",
          "text": [
            "(2400, 450, 600, 3)\n",
            "(2400, 450, 600, 3)\n",
            "(600, 450, 600, 3)\n",
            "(600, 450, 600, 3)\n"
          ]
        }
      ]
    },
    {
      "cell_type": "code",
      "metadata": {
        "id": "_Ae3OTAbbfoC"
      },
      "source": [
        "orb = cv2.ORB_create()"
      ],
      "execution_count": null,
      "outputs": []
    },
    {
      "cell_type": "code",
      "metadata": {
        "id": "4QCNyBWCnuRv",
        "colab": {
          "base_uri": "https://localhost:8080/"
        },
        "outputId": "8d6cbba1-d3f9-4656-b5c2-51b426024224"
      },
      "source": [
        "orbFeatures_trainX_Les  = []\n",
        "orbFeatures_trainX_NV   = []\n",
        "orbFeatures_valX_Les    = []\n",
        "orbFeatures_valX_NV     = []\n",
        "\n",
        "for x in tqdm(trainX_Les):\n",
        "  kp, des = orb.detectAndCompute(x, None)\n",
        "  if des is not None:\n",
        "    orbFeatures_trainX_Les.append(des)\n",
        "\n",
        "for x in tqdm(trainX_NV):\n",
        "  kp, des = orb.detectAndCompute(x, None)\n",
        "  if des is not None:\n",
        "    orbFeatures_trainX_NV.append(des)\n",
        "\n",
        "for x in tqdm(valX_Les):\n",
        "  kp, des = orb.detectAndCompute(x, None)\n",
        "  if des is not None:\n",
        "    orbFeatures_valX_Les.append(des)\n",
        "\n",
        "for x in tqdm(valX_NV):\n",
        "  kp, des = orb.detectAndCompute(x, None)\n",
        "  if des is not None:\n",
        "    orbFeatures_valX_NV.append(des)\n"
      ],
      "execution_count": null,
      "outputs": [
        {
          "output_type": "stream",
          "name": "stderr",
          "text": [
            "100%|██████████| 2400/2400 [00:18<00:00, 130.52it/s]\n",
            "100%|██████████| 2400/2400 [00:17<00:00, 137.23it/s]\n",
            "100%|██████████| 600/600 [00:04<00:00, 133.03it/s]\n",
            "100%|██████████| 600/600 [00:04<00:00, 132.84it/s]\n"
          ]
        }
      ]
    },
    {
      "cell_type": "code",
      "metadata": {
        "id": "d97jURPg5XEA"
      },
      "source": [
        "orbFeatures_trainX_Les  = np.vstack(orbFeatures_trainX_Les)\n",
        "orbFeatures_trainX_NV   = np.vstack(orbFeatures_trainX_NV)\n",
        "orbFeatures_valX_Les    = np.vstack(orbFeatures_valX_Les)\n",
        "orbFeatures_valX_NV     = np.vstack(orbFeatures_valX_NV)"
      ],
      "execution_count": null,
      "outputs": []
    },
    {
      "cell_type": "code",
      "metadata": {
        "colab": {
          "base_uri": "https://localhost:8080/"
        },
        "id": "QggVPv-agnSq",
        "outputId": "aba15d26-9392-414e-91bb-a0ca06215770"
      },
      "source": [
        "print(orbFeatures_trainX_Les.shape)\n",
        "print(orbFeatures_trainX_NV.shape)\n",
        "print(orbFeatures_valX_Les.shape)\n",
        "print(orbFeatures_valX_NV.shape)"
      ],
      "execution_count": null,
      "outputs": [
        {
          "output_type": "stream",
          "name": "stdout",
          "text": [
            "(424598, 32)\n",
            "(283280, 32)\n",
            "(108318, 32)\n",
            "(72606, 32)\n"
          ]
        }
      ]
    },
    {
      "cell_type": "code",
      "metadata": {
        "id": "Py-JH5tLHg62"
      },
      "source": [
        "kmeans_orbFeatures_trainX = MiniBatchKMeans(n_clusters=2*10, batch_size=trainX_Les.shape[0]*3*2, verbose=0).fit(np.concatenate((orbFeatures_trainX_Les,orbFeatures_trainX_NV)))"
      ],
      "execution_count": null,
      "outputs": []
    },
    {
      "cell_type": "code",
      "metadata": {
        "id": "UvTo4ywKQtZ-",
        "colab": {
          "base_uri": "https://localhost:8080/"
        },
        "outputId": "61fa7308-fb30-41e6-a656-a910682e6c9b"
      },
      "source": [
        "\n",
        "histo_orbFeatures_trainX = []\n",
        "\n",
        "\n",
        "for x in tqdm(np.concatenate((trainX_Les,trainX_NV),axis=0)):\n",
        "  kp, des = orb.detectAndCompute(x, None)\n",
        "\n",
        "  histo = np.zeros(2*10)\n",
        "  nkp = np.size(kp)\n",
        "\n",
        "  if des is not None:\n",
        "    kmeans_orbFeatures_trainX.predict(des)\n",
        "    # hist = plt.hist()\n",
        "    for d in des:\n",
        "      idx = kmeans_orbFeatures_trainX.predict([d])\n",
        "      histo[idx] += 1/nkp # Because we need normalized histograms, I prefere to add 1/nkp directly\n",
        "\n",
        "  histo_orbFeatures_trainX.append(histo)\n",
        "\n",
        "\n"
      ],
      "execution_count": null,
      "outputs": [
        {
          "output_type": "stream",
          "name": "stderr",
          "text": [
            "100%|██████████| 4800/4800 [06:42<00:00, 11.92it/s]\n"
          ]
        }
      ]
    },
    {
      "cell_type": "code",
      "metadata": {
        "id": "vq6P7lWpkDLA",
        "colab": {
          "base_uri": "https://localhost:8080/"
        },
        "outputId": "5b9afc44-f2bf-4a92-f070-3068bc6bac4c"
      },
      "source": [
        "histo_orbFeatures_valX = []\n",
        "\n",
        "\n",
        "for x in tqdm(np.concatenate((valX_Les,valX_NV),axis=0)):\n",
        "  kp, des = orb.detectAndCompute(x, None)\n",
        "\n",
        "  histo = np.zeros(2*10)\n",
        "  nkp = np.size(kp)\n",
        "\n",
        "  if des is not None:\n",
        "    kmeans_orbFeatures_trainX.predict(des)\n",
        "    for d in des:\n",
        "      idx = kmeans_orbFeatures_trainX.predict([d])\n",
        "      histo[idx] += 1/nkp \n",
        "\n",
        "  histo_orbFeatures_valX.append(histo)"
      ],
      "execution_count": null,
      "outputs": [
        {
          "output_type": "stream",
          "name": "stderr",
          "text": [
            "100%|██████████| 1200/1200 [01:42<00:00, 11.73it/s]\n"
          ]
        }
      ]
    },
    {
      "cell_type": "code",
      "metadata": {
        "colab": {
          "base_uri": "https://localhost:8080/"
        },
        "id": "PcX6zy2Dm6sV",
        "outputId": "40d02938-2d0f-427a-b7c8-8790cddcbeee"
      },
      "source": [
        "print(np.vstack(histo_orbFeatures_trainX).shape)\n",
        "print(np.vstack(histo_orbFeatures_valX).shape)\n"
      ],
      "execution_count": null,
      "outputs": [
        {
          "output_type": "stream",
          "name": "stdout",
          "text": [
            "(4800, 20)\n",
            "(1200, 20)\n"
          ]
        }
      ]
    },
    {
      "cell_type": "code",
      "metadata": {
        "id": "N1NSEvJLiPTw",
        "colab": {
          "base_uri": "https://localhost:8080/"
        },
        "outputId": "e5540f53-6a57-4d4b-d74b-dcd7cb894721"
      },
      "source": [
        "trainData = pd.DataFrame(histo_orbFeatures_trainX)\n",
        "trainData['labels']=0\n",
        "trainData['labels'][0:2400]=1"
      ],
      "execution_count": null,
      "outputs": [
        {
          "output_type": "stream",
          "name": "stderr",
          "text": [
            "/usr/local/lib/python3.7/dist-packages/ipykernel_launcher.py:3: SettingWithCopyWarning: \n",
            "A value is trying to be set on a copy of a slice from a DataFrame\n",
            "\n",
            "See the caveats in the documentation: https://pandas.pydata.org/pandas-docs/stable/user_guide/indexing.html#returning-a-view-versus-a-copy\n",
            "  This is separate from the ipykernel package so we can avoid doing imports until\n"
          ]
        }
      ]
    },
    {
      "cell_type": "code",
      "metadata": {
        "colab": {
          "base_uri": "https://localhost:8080/"
        },
        "id": "kcpOC9jTxOsw",
        "outputId": "03722384-c8cf-4d62-c58c-a4e0c089308a"
      },
      "source": [
        "valData = pd.DataFrame(histo_orbFeatures_valX)\n",
        "valData['labels']=0\n",
        "valData['labels'][0:600]=1"
      ],
      "execution_count": null,
      "outputs": [
        {
          "output_type": "stream",
          "name": "stderr",
          "text": [
            "/usr/local/lib/python3.7/dist-packages/ipykernel_launcher.py:3: SettingWithCopyWarning: \n",
            "A value is trying to be set on a copy of a slice from a DataFrame\n",
            "\n",
            "See the caveats in the documentation: https://pandas.pydata.org/pandas-docs/stable/user_guide/indexing.html#returning-a-view-versus-a-copy\n",
            "  This is separate from the ipykernel package so we can avoid doing imports until\n"
          ]
        }
      ]
    },
    {
      "cell_type": "code",
      "metadata": {
        "id": "sFT3Z-ElyuKt"
      },
      "source": [
        "trainData.to_csv('/drive/My Drive/CAD_1_1/ORB_Train_hairRemoved.csv',index=False)\n",
        "valData.to_csv('/drive/My Drive/CAD_1_1/ORB_val_hairRemoved.csv',index=False)"
      ],
      "execution_count": null,
      "outputs": []
    },
    {
      "cell_type": "code",
      "metadata": {
        "id": "WrCbQHma1tH3"
      },
      "source": [
        "trainDataShuffle=trainData.sample(frac=1)\n",
        "valDataShuffle=valData.sample(frac=1)"
      ],
      "execution_count": null,
      "outputs": []
    },
    {
      "cell_type": "code",
      "metadata": {
        "id": "U0ZWvAdVXxIe",
        "colab": {
          "base_uri": "https://localhost:8080/",
          "height": 442
        },
        "outputId": "fef94760-d8b5-4ebc-bd06-1101fb58bf4f"
      },
      "source": [
        "trainDataShuffle"
      ],
      "execution_count": null,
      "outputs": [
        {
          "output_type": "execute_result",
          "data": {
            "text/html": [
              "<div>\n",
              "<style scoped>\n",
              "    .dataframe tbody tr th:only-of-type {\n",
              "        vertical-align: middle;\n",
              "    }\n",
              "\n",
              "    .dataframe tbody tr th {\n",
              "        vertical-align: top;\n",
              "    }\n",
              "\n",
              "    .dataframe thead th {\n",
              "        text-align: right;\n",
              "    }\n",
              "</style>\n",
              "<table border=\"1\" class=\"dataframe\">\n",
              "  <thead>\n",
              "    <tr style=\"text-align: right;\">\n",
              "      <th></th>\n",
              "      <th>0</th>\n",
              "      <th>1</th>\n",
              "      <th>2</th>\n",
              "      <th>3</th>\n",
              "      <th>4</th>\n",
              "      <th>5</th>\n",
              "      <th>6</th>\n",
              "      <th>7</th>\n",
              "      <th>8</th>\n",
              "      <th>9</th>\n",
              "      <th>10</th>\n",
              "      <th>11</th>\n",
              "      <th>12</th>\n",
              "      <th>13</th>\n",
              "      <th>14</th>\n",
              "      <th>15</th>\n",
              "      <th>16</th>\n",
              "      <th>17</th>\n",
              "      <th>18</th>\n",
              "      <th>19</th>\n",
              "      <th>labels</th>\n",
              "    </tr>\n",
              "  </thead>\n",
              "  <tbody>\n",
              "    <tr>\n",
              "      <th>2459</th>\n",
              "      <td>0.050955</td>\n",
              "      <td>0.025478</td>\n",
              "      <td>0.095541</td>\n",
              "      <td>0.038217</td>\n",
              "      <td>0.050955</td>\n",
              "      <td>0.044586</td>\n",
              "      <td>0.012739</td>\n",
              "      <td>0.044586</td>\n",
              "      <td>0.038217</td>\n",
              "      <td>0.006369</td>\n",
              "      <td>0.019108</td>\n",
              "      <td>0.082803</td>\n",
              "      <td>0.082803</td>\n",
              "      <td>0.146497</td>\n",
              "      <td>0.063694</td>\n",
              "      <td>0.038217</td>\n",
              "      <td>0.076433</td>\n",
              "      <td>0.031847</td>\n",
              "      <td>0.031847</td>\n",
              "      <td>0.019108</td>\n",
              "      <td>0</td>\n",
              "    </tr>\n",
              "    <tr>\n",
              "      <th>3064</th>\n",
              "      <td>0.025000</td>\n",
              "      <td>0.000000</td>\n",
              "      <td>0.025000</td>\n",
              "      <td>0.137500</td>\n",
              "      <td>0.087500</td>\n",
              "      <td>0.000000</td>\n",
              "      <td>0.000000</td>\n",
              "      <td>0.150000</td>\n",
              "      <td>0.087500</td>\n",
              "      <td>0.000000</td>\n",
              "      <td>0.012500</td>\n",
              "      <td>0.025000</td>\n",
              "      <td>0.087500</td>\n",
              "      <td>0.050000</td>\n",
              "      <td>0.012500</td>\n",
              "      <td>0.087500</td>\n",
              "      <td>0.037500</td>\n",
              "      <td>0.175000</td>\n",
              "      <td>0.000000</td>\n",
              "      <td>0.000000</td>\n",
              "      <td>0</td>\n",
              "    </tr>\n",
              "    <tr>\n",
              "      <th>505</th>\n",
              "      <td>0.000000</td>\n",
              "      <td>0.000000</td>\n",
              "      <td>0.000000</td>\n",
              "      <td>0.000000</td>\n",
              "      <td>0.500000</td>\n",
              "      <td>0.000000</td>\n",
              "      <td>0.000000</td>\n",
              "      <td>0.000000</td>\n",
              "      <td>0.000000</td>\n",
              "      <td>0.000000</td>\n",
              "      <td>0.000000</td>\n",
              "      <td>0.000000</td>\n",
              "      <td>0.500000</td>\n",
              "      <td>0.000000</td>\n",
              "      <td>0.000000</td>\n",
              "      <td>0.000000</td>\n",
              "      <td>0.000000</td>\n",
              "      <td>0.000000</td>\n",
              "      <td>0.000000</td>\n",
              "      <td>0.000000</td>\n",
              "      <td>1</td>\n",
              "    </tr>\n",
              "    <tr>\n",
              "      <th>2874</th>\n",
              "      <td>0.000000</td>\n",
              "      <td>0.000000</td>\n",
              "      <td>0.000000</td>\n",
              "      <td>0.000000</td>\n",
              "      <td>0.000000</td>\n",
              "      <td>0.000000</td>\n",
              "      <td>0.000000</td>\n",
              "      <td>0.000000</td>\n",
              "      <td>0.000000</td>\n",
              "      <td>0.000000</td>\n",
              "      <td>0.000000</td>\n",
              "      <td>0.000000</td>\n",
              "      <td>0.000000</td>\n",
              "      <td>0.000000</td>\n",
              "      <td>0.000000</td>\n",
              "      <td>0.000000</td>\n",
              "      <td>0.000000</td>\n",
              "      <td>0.000000</td>\n",
              "      <td>0.000000</td>\n",
              "      <td>1.000000</td>\n",
              "      <td>0</td>\n",
              "    </tr>\n",
              "    <tr>\n",
              "      <th>1007</th>\n",
              "      <td>0.222222</td>\n",
              "      <td>0.444444</td>\n",
              "      <td>0.000000</td>\n",
              "      <td>0.000000</td>\n",
              "      <td>0.000000</td>\n",
              "      <td>0.000000</td>\n",
              "      <td>0.000000</td>\n",
              "      <td>0.000000</td>\n",
              "      <td>0.000000</td>\n",
              "      <td>0.000000</td>\n",
              "      <td>0.000000</td>\n",
              "      <td>0.111111</td>\n",
              "      <td>0.111111</td>\n",
              "      <td>0.111111</td>\n",
              "      <td>0.000000</td>\n",
              "      <td>0.000000</td>\n",
              "      <td>0.000000</td>\n",
              "      <td>0.000000</td>\n",
              "      <td>0.000000</td>\n",
              "      <td>0.000000</td>\n",
              "      <td>1</td>\n",
              "    </tr>\n",
              "    <tr>\n",
              "      <th>...</th>\n",
              "      <td>...</td>\n",
              "      <td>...</td>\n",
              "      <td>...</td>\n",
              "      <td>...</td>\n",
              "      <td>...</td>\n",
              "      <td>...</td>\n",
              "      <td>...</td>\n",
              "      <td>...</td>\n",
              "      <td>...</td>\n",
              "      <td>...</td>\n",
              "      <td>...</td>\n",
              "      <td>...</td>\n",
              "      <td>...</td>\n",
              "      <td>...</td>\n",
              "      <td>...</td>\n",
              "      <td>...</td>\n",
              "      <td>...</td>\n",
              "      <td>...</td>\n",
              "      <td>...</td>\n",
              "      <td>...</td>\n",
              "      <td>...</td>\n",
              "    </tr>\n",
              "    <tr>\n",
              "      <th>2211</th>\n",
              "      <td>0.000000</td>\n",
              "      <td>0.075188</td>\n",
              "      <td>0.007519</td>\n",
              "      <td>0.000000</td>\n",
              "      <td>0.000000</td>\n",
              "      <td>0.097744</td>\n",
              "      <td>0.030075</td>\n",
              "      <td>0.000000</td>\n",
              "      <td>0.007519</td>\n",
              "      <td>0.240602</td>\n",
              "      <td>0.112782</td>\n",
              "      <td>0.045113</td>\n",
              "      <td>0.022556</td>\n",
              "      <td>0.030075</td>\n",
              "      <td>0.007519</td>\n",
              "      <td>0.000000</td>\n",
              "      <td>0.015038</td>\n",
              "      <td>0.007519</td>\n",
              "      <td>0.127820</td>\n",
              "      <td>0.172932</td>\n",
              "      <td>1</td>\n",
              "    </tr>\n",
              "    <tr>\n",
              "      <th>720</th>\n",
              "      <td>0.032544</td>\n",
              "      <td>0.017751</td>\n",
              "      <td>0.053254</td>\n",
              "      <td>0.059172</td>\n",
              "      <td>0.076923</td>\n",
              "      <td>0.032544</td>\n",
              "      <td>0.020710</td>\n",
              "      <td>0.050296</td>\n",
              "      <td>0.059172</td>\n",
              "      <td>0.059172</td>\n",
              "      <td>0.041420</td>\n",
              "      <td>0.047337</td>\n",
              "      <td>0.065089</td>\n",
              "      <td>0.106509</td>\n",
              "      <td>0.020710</td>\n",
              "      <td>0.059172</td>\n",
              "      <td>0.062130</td>\n",
              "      <td>0.053254</td>\n",
              "      <td>0.038462</td>\n",
              "      <td>0.044379</td>\n",
              "      <td>1</td>\n",
              "    </tr>\n",
              "    <tr>\n",
              "      <th>3534</th>\n",
              "      <td>0.017857</td>\n",
              "      <td>0.000000</td>\n",
              "      <td>0.071429</td>\n",
              "      <td>0.250000</td>\n",
              "      <td>0.035714</td>\n",
              "      <td>0.035714</td>\n",
              "      <td>0.017857</td>\n",
              "      <td>0.000000</td>\n",
              "      <td>0.000000</td>\n",
              "      <td>0.017857</td>\n",
              "      <td>0.000000</td>\n",
              "      <td>0.000000</td>\n",
              "      <td>0.035714</td>\n",
              "      <td>0.017857</td>\n",
              "      <td>0.250000</td>\n",
              "      <td>0.125000</td>\n",
              "      <td>0.035714</td>\n",
              "      <td>0.017857</td>\n",
              "      <td>0.071429</td>\n",
              "      <td>0.000000</td>\n",
              "      <td>0</td>\n",
              "    </tr>\n",
              "    <tr>\n",
              "      <th>4478</th>\n",
              "      <td>0.000000</td>\n",
              "      <td>0.032787</td>\n",
              "      <td>0.049180</td>\n",
              "      <td>0.049180</td>\n",
              "      <td>0.098361</td>\n",
              "      <td>0.000000</td>\n",
              "      <td>0.000000</td>\n",
              "      <td>0.131148</td>\n",
              "      <td>0.065574</td>\n",
              "      <td>0.016393</td>\n",
              "      <td>0.000000</td>\n",
              "      <td>0.032787</td>\n",
              "      <td>0.163934</td>\n",
              "      <td>0.081967</td>\n",
              "      <td>0.049180</td>\n",
              "      <td>0.049180</td>\n",
              "      <td>0.065574</td>\n",
              "      <td>0.098361</td>\n",
              "      <td>0.000000</td>\n",
              "      <td>0.016393</td>\n",
              "      <td>0</td>\n",
              "    </tr>\n",
              "    <tr>\n",
              "      <th>83</th>\n",
              "      <td>0.008081</td>\n",
              "      <td>0.016162</td>\n",
              "      <td>0.026263</td>\n",
              "      <td>0.020202</td>\n",
              "      <td>0.020202</td>\n",
              "      <td>0.090909</td>\n",
              "      <td>0.197980</td>\n",
              "      <td>0.052525</td>\n",
              "      <td>0.026263</td>\n",
              "      <td>0.145455</td>\n",
              "      <td>0.008081</td>\n",
              "      <td>0.018182</td>\n",
              "      <td>0.012121</td>\n",
              "      <td>0.036364</td>\n",
              "      <td>0.074747</td>\n",
              "      <td>0.052525</td>\n",
              "      <td>0.024242</td>\n",
              "      <td>0.032323</td>\n",
              "      <td>0.117172</td>\n",
              "      <td>0.020202</td>\n",
              "      <td>1</td>\n",
              "    </tr>\n",
              "  </tbody>\n",
              "</table>\n",
              "<p>4800 rows × 21 columns</p>\n",
              "</div>"
            ],
            "text/plain": [
              "             0         1         2  ...        18        19  labels\n",
              "2459  0.050955  0.025478  0.095541  ...  0.031847  0.019108       0\n",
              "3064  0.025000  0.000000  0.025000  ...  0.000000  0.000000       0\n",
              "505   0.000000  0.000000  0.000000  ...  0.000000  0.000000       1\n",
              "2874  0.000000  0.000000  0.000000  ...  0.000000  1.000000       0\n",
              "1007  0.222222  0.444444  0.000000  ...  0.000000  0.000000       1\n",
              "...        ...       ...       ...  ...       ...       ...     ...\n",
              "2211  0.000000  0.075188  0.007519  ...  0.127820  0.172932       1\n",
              "720   0.032544  0.017751  0.053254  ...  0.038462  0.044379       1\n",
              "3534  0.017857  0.000000  0.071429  ...  0.071429  0.000000       0\n",
              "4478  0.000000  0.032787  0.049180  ...  0.000000  0.016393       0\n",
              "83    0.008081  0.016162  0.026263  ...  0.117172  0.020202       1\n",
              "\n",
              "[4800 rows x 21 columns]"
            ]
          },
          "metadata": {},
          "execution_count": 19
        }
      ]
    },
    {
      "cell_type": "code",
      "metadata": {
        "colab": {
          "base_uri": "https://localhost:8080/"
        },
        "id": "5U8rBJCrzQ4U",
        "outputId": "2d3ca541-dc42-430b-989b-b8061d8461d9"
      },
      "source": [
        "mlp = MLPClassifier(verbose=False, max_iter=600000)\n",
        "mlp.fit(trainDataShuffle.drop([\"labels\"],axis=1), trainDataShuffle['labels'])\n",
        "mlp.score(valDataShuffle.drop([\"labels\"],axis=1),valDataShuffle['labels'])"
      ],
      "execution_count": null,
      "outputs": [
        {
          "output_type": "execute_result",
          "data": {
            "text/plain": [
              "0.6825"
            ]
          },
          "metadata": {},
          "execution_count": 21
        }
      ]
    },
    {
      "cell_type": "code",
      "metadata": {
        "colab": {
          "base_uri": "https://localhost:8080/"
        },
        "id": "6ZBOz8Tp2A6A",
        "outputId": "a0df3318-f9ef-40a5-a1fb-071f66d39633"
      },
      "source": [
        "rndst=RandomForestClassifier(n_estimators=100)\n",
        "rndst.fit(trainDataShuffle.drop([\"labels\"],axis=1), trainDataShuffle['labels'])\n",
        "rndst.score(valDataShuffle.drop([\"labels\"],axis=1),valDataShuffle['labels'])"
      ],
      "execution_count": null,
      "outputs": [
        {
          "output_type": "execute_result",
          "data": {
            "text/plain": [
              "0.6983333333333334"
            ]
          },
          "metadata": {},
          "execution_count": 23
        }
      ]
    },
    {
      "cell_type": "code",
      "metadata": {
        "id": "bMN53S943Y3P",
        "colab": {
          "base_uri": "https://localhost:8080/"
        },
        "outputId": "7b04b197-9e04-4ebc-9794-ce1ea914b46c"
      },
      "source": [
        "best_svc = SVC()\n",
        "best_svc.fit(trainDataShuffle.drop([\"labels\"],axis=1), trainDataShuffle['labels'])\n",
        "best_svc.score(valDataShuffle.drop([\"labels\"],axis=1),valDataShuffle['labels'])"
      ],
      "execution_count": null,
      "outputs": [
        {
          "output_type": "execute_result",
          "data": {
            "text/plain": [
              "0.6883333333333334"
            ]
          },
          "metadata": {},
          "execution_count": 24
        }
      ]
    },
    {
      "cell_type": "code",
      "metadata": {
        "id": "xqC2wr46ekrQ"
      },
      "source": [
        "#Worse than with hair"
      ],
      "execution_count": null,
      "outputs": []
    }
  ]
}