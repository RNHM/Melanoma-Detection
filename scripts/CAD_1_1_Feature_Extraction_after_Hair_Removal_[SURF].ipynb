{
  "nbformat": 4,
  "nbformat_minor": 0,
  "metadata": {
    "colab": {
      "name": "CAD_1_1: Feature Extraction after Hair Removal [SURF].ipynb",
      "provenance": [],
      "collapsed_sections": []
    },
    "kernelspec": {
      "name": "python3",
      "display_name": "Python 3"
    },
    "language_info": {
      "name": "python"
    }
  },
  "cells": [
    {
      "cell_type": "code",
      "metadata": {
        "id": "OWoIbttKJQDI",
        "colab": {
          "base_uri": "https://localhost:8080/"
        },
        "outputId": "2fbae5e8-4219-44b0-ca01-fdd151408028"
      },
      "source": [
        "!pip install opencv-python==3.4.2.17 opencv-contrib-python==3.4.2.17\n",
        "\n",
        "from google.colab import drive\n",
        "import numpy as np\n",
        "import cv2\n",
        "import matplotlib.pyplot as plt\n",
        "import os\n",
        "import pandas as pd\n",
        "from tqdm import tqdm\n",
        "import csv\n",
        "\n",
        "\n",
        "from sklearn.cluster import MiniBatchKMeans\n",
        "from sklearn.neural_network import MLPClassifier\n",
        "from sklearn.svm import SVC\n",
        "from sklearn.ensemble import RandomForestClassifier\n"
      ],
      "execution_count": null,
      "outputs": [
        {
          "output_type": "stream",
          "name": "stdout",
          "text": [
            "Collecting opencv-python==3.4.2.17\n",
            "  Downloading opencv_python-3.4.2.17-cp37-cp37m-manylinux1_x86_64.whl (25.0 MB)\n",
            "\u001b[K     |████████████████████████████████| 25.0 MB 105 kB/s \n",
            "\u001b[?25hCollecting opencv-contrib-python==3.4.2.17\n",
            "  Downloading opencv_contrib_python-3.4.2.17-cp37-cp37m-manylinux1_x86_64.whl (30.6 MB)\n",
            "\u001b[K     |████████████████████████████████| 30.6 MB 27 kB/s \n",
            "\u001b[?25hRequirement already satisfied: numpy>=1.14.5 in /usr/local/lib/python3.7/dist-packages (from opencv-python==3.4.2.17) (1.19.5)\n",
            "Installing collected packages: opencv-python, opencv-contrib-python\n",
            "  Attempting uninstall: opencv-python\n",
            "    Found existing installation: opencv-python 4.1.2.30\n",
            "    Uninstalling opencv-python-4.1.2.30:\n",
            "      Successfully uninstalled opencv-python-4.1.2.30\n",
            "  Attempting uninstall: opencv-contrib-python\n",
            "    Found existing installation: opencv-contrib-python 4.1.2.30\n",
            "    Uninstalling opencv-contrib-python-4.1.2.30:\n",
            "      Successfully uninstalled opencv-contrib-python-4.1.2.30\n",
            "\u001b[31mERROR: pip's dependency resolver does not currently take into account all the packages that are installed. This behaviour is the source of the following dependency conflicts.\n",
            "albumentations 0.1.12 requires imgaug<0.2.7,>=0.2.5, but you have imgaug 0.2.9 which is incompatible.\u001b[0m\n",
            "Successfully installed opencv-contrib-python-3.4.2.17 opencv-python-3.4.2.17\n"
          ]
        }
      ]
    },
    {
      "cell_type": "code",
      "metadata": {
        "colab": {
          "base_uri": "https://localhost:8080/"
        },
        "id": "jddSkxkdd_fk",
        "outputId": "bb58da24-8f4c-4fdc-86d1-fdfb992a059d"
      },
      "source": [
        "drive.mount('/drive') "
      ],
      "execution_count": null,
      "outputs": [
        {
          "output_type": "stream",
          "name": "stdout",
          "text": [
            "Mounted at /drive\n"
          ]
        }
      ]
    },
    {
      "cell_type": "code",
      "metadata": {
        "id": "JDLO55B6eA7R"
      },
      "source": [
        "train_Les = np.load('/drive/My Drive/CAD_1_1/train_Les_hairRemoved.npz',allow_pickle=True)\n",
        "train_NV  = np.load('/drive/My Drive/CAD_1_1/train_NV_hairRemoved.npz',allow_pickle=True)\n",
        "val_Les   = np.load('/drive/My Drive/CAD_1_1/val_Les_hairRemoved.npz',allow_pickle=True)\n",
        "val_NV    = np.load('/drive/My Drive/CAD_1_1/val_NV_hairRemoved.npz',allow_pickle=True)\n",
        "test      = np.load('/drive/My Drive/CAD_1_1/test_hairRemoved.npz',allow_pickle=True)"
      ],
      "execution_count": null,
      "outputs": []
    },
    {
      "cell_type": "code",
      "metadata": {
        "id": "0fgdqB4ufABU"
      },
      "source": [
        "trainX_Les  = np.array(train_Les['arr_0'])\n",
        "trainX_NV   = np.array(train_NV['arr_0'])\n",
        "valX_Les    = np.array(val_Les['arr_0'])\n",
        "valX_NV     = np.array(val_NV['arr_0'])\n",
        "test        = np.array(test['test'])"
      ],
      "execution_count": null,
      "outputs": []
    },
    {
      "cell_type": "code",
      "metadata": {
        "colab": {
          "base_uri": "https://localhost:8080/"
        },
        "id": "Fa0H2zORiR7N",
        "outputId": "d6c4a914-1d3b-4a35-b4e2-20fc7e61cc3f"
      },
      "source": [
        "print(trainX_Les.shape)\n",
        "print(trainX_NV.shape)\n",
        "print(valX_Les.shape)\n",
        "print(valX_NV.shape)\n",
        "print(test.shape)"
      ],
      "execution_count": null,
      "outputs": [
        {
          "output_type": "stream",
          "name": "stdout",
          "text": [
            "(2400, 450, 600, 3)\n",
            "(2400, 450, 600, 3)\n",
            "(600, 450, 600, 3)\n",
            "(600, 450, 600, 3)\n",
            "(1015, 450, 600, 3)\n"
          ]
        }
      ]
    },
    {
      "cell_type": "code",
      "metadata": {
        "id": "86Z4wO1wkrNF"
      },
      "source": [
        "surf=cv2.xfeatures2d.SURF_create()"
      ],
      "execution_count": null,
      "outputs": []
    },
    {
      "cell_type": "code",
      "metadata": {
        "id": "4QCNyBWCnuRv",
        "colab": {
          "base_uri": "https://localhost:8080/"
        },
        "outputId": "5acf3113-1128-4e67-e68d-dd4754b56128"
      },
      "source": [
        "surfFeatures_trainX_Les  = []\n",
        "surfFeatures_trainX_NV   = []\n",
        "\n",
        "for x in tqdm(trainX_Les):\n",
        "  kp, des = surf.detectAndCompute(x, None)\n",
        "  if des is not None:\n",
        "    surfFeatures_trainX_Les.append(des)\n",
        "\n",
        "for x in tqdm(trainX_NV):\n",
        "  kp, des = surf.detectAndCompute(x, None)\n",
        "  if des is not None:\n",
        "    surfFeatures_trainX_NV.append(des)\n"
      ],
      "execution_count": null,
      "outputs": [
        {
          "output_type": "stream",
          "name": "stderr",
          "text": [
            "100%|██████████| 2400/2400 [05:44<00:00,  6.96it/s]\n",
            "100%|██████████| 2400/2400 [03:37<00:00, 11.01it/s]\n"
          ]
        }
      ]
    },
    {
      "cell_type": "code",
      "metadata": {
        "id": "d97jURPg5XEA"
      },
      "source": [
        "surfFeatures_trainX_Les  = np.vstack(surfFeatures_trainX_Les)\n",
        "surfFeatures_trainX_NV   = np.vstack(surfFeatures_trainX_NV)\n"
      ],
      "execution_count": null,
      "outputs": []
    },
    {
      "cell_type": "code",
      "metadata": {
        "colab": {
          "base_uri": "https://localhost:8080/"
        },
        "id": "QggVPv-agnSq",
        "outputId": "dc4657e3-a9ad-4e90-9106-89593a9200c1"
      },
      "source": [
        "print(surfFeatures_trainX_Les.shape)\n",
        "print(surfFeatures_trainX_NV.shape)\n"
      ],
      "execution_count": null,
      "outputs": [
        {
          "output_type": "stream",
          "name": "stdout",
          "text": [
            "(1133914, 64)\n",
            "(565124, 64)\n"
          ]
        }
      ]
    },
    {
      "cell_type": "code",
      "metadata": {
        "id": "Py-JH5tLHg62"
      },
      "source": [
        "kmeans_surfFeatures_trainX = MiniBatchKMeans(n_clusters=2*10, batch_size=trainX_Les.shape[0]*3*2, verbose=0).fit(np.concatenate((surfFeatures_trainX_Les,surfFeatures_trainX_NV)))"
      ],
      "execution_count": null,
      "outputs": []
    },
    {
      "cell_type": "code",
      "metadata": {
        "id": "UvTo4ywKQtZ-",
        "colab": {
          "base_uri": "https://localhost:8080/"
        },
        "outputId": "b8c75850-4f5f-4774-b175-4a3ba2f6877f"
      },
      "source": [
        "\n",
        "histo_surfFeatures_trainX = []\n",
        "\n",
        "\n",
        "for x in tqdm(np.concatenate((trainX_Les,trainX_NV),axis=0)):\n",
        "  kp, des = surf.detectAndCompute(x, None)\n",
        "\n",
        "  histo = np.zeros(2*10)\n",
        "  nkp = np.size(kp)\n",
        "\n",
        "  if des is not None:\n",
        "    kmeans_surfFeatures_trainX.predict(des)\n",
        "    # hist = plt.hist()\n",
        "    for d in des:\n",
        "      idx = kmeans_surfFeatures_trainX.predict([d])\n",
        "      histo[idx] += 1/nkp # Because we need normalized histograms, I prefere to add 1/nkp directly\n",
        "\n",
        "  histo_surfFeatures_trainX.append(histo)\n",
        "\n",
        "\n"
      ],
      "execution_count": null,
      "outputs": [
        {
          "output_type": "stream",
          "name": "stderr",
          "text": [
            "100%|██████████| 4800/4800 [30:16<00:00,  2.64it/s]\n"
          ]
        }
      ]
    },
    {
      "cell_type": "code",
      "metadata": {
        "id": "vq6P7lWpkDLA",
        "colab": {
          "base_uri": "https://localhost:8080/"
        },
        "outputId": "817ae3b3-04de-4ebe-937e-8c3016631d1c"
      },
      "source": [
        "histo_surfFeatures_valX = []\n",
        "\n",
        "\n",
        "for x in tqdm(np.concatenate((valX_Les,valX_NV),axis=0)):\n",
        "  kp, des = surf.detectAndCompute(x, None)\n",
        "\n",
        "  histo = np.zeros(2*10)\n",
        "  nkp = np.size(kp)\n",
        "\n",
        "  if des is not None:\n",
        "    kmeans_surfFeatures_trainX.predict(des)\n",
        "    # hist = plt.hist()\n",
        "    for d in des:\n",
        "      idx = kmeans_surfFeatures_trainX.predict([d])\n",
        "      histo[idx] += 1/nkp # Because we need normalized histograms, I prefere to add 1/nkp directly\n",
        "\n",
        "  histo_surfFeatures_valX.append(histo)"
      ],
      "execution_count": null,
      "outputs": [
        {
          "output_type": "stream",
          "name": "stderr",
          "text": [
            "100%|██████████| 1200/1200 [07:30<00:00,  2.66it/s]\n"
          ]
        }
      ]
    },
    {
      "cell_type": "code",
      "metadata": {
        "colab": {
          "base_uri": "https://localhost:8080/"
        },
        "id": "gUQlmdddjxmW",
        "outputId": "c116f205-76a8-4808-82c5-1c6e1e760cf9"
      },
      "source": [
        "histo_surfFeatures_test = []\n",
        "\n",
        "\n",
        "for x in tqdm(test):\n",
        "  kp, des = surf.detectAndCompute(x, None)\n",
        "\n",
        "  histo = np.zeros(2*10)\n",
        "  nkp = np.size(kp)\n",
        "\n",
        "  if des is not None:\n",
        "    kmeans_surfFeatures_trainX.predict(des)\n",
        "    # hist = plt.hist()\n",
        "    for d in des:\n",
        "      idx = kmeans_surfFeatures_trainX.predict([d])\n",
        "      histo[idx] += 1/nkp # Because we need normalized histograms, I prefere to add 1/nkp directly\n",
        "\n",
        "  histo_surfFeatures_test.append(histo)"
      ],
      "execution_count": null,
      "outputs": [
        {
          "output_type": "stream",
          "name": "stderr",
          "text": [
            "100%|██████████| 1015/1015 [05:35<00:00,  3.03it/s]\n"
          ]
        }
      ]
    },
    {
      "cell_type": "code",
      "metadata": {
        "colab": {
          "base_uri": "https://localhost:8080/"
        },
        "id": "PcX6zy2Dm6sV",
        "outputId": "6b621a77-75db-4bce-ee22-badad991bfb3"
      },
      "source": [
        "print(np.vstack(histo_surfFeatures_trainX).shape)\n",
        "print(np.vstack(histo_surfFeatures_valX).shape)\n",
        "print(np.vstack(histo_surfFeatures_test).shape)"
      ],
      "execution_count": null,
      "outputs": [
        {
          "output_type": "stream",
          "name": "stdout",
          "text": [
            "(4800, 20)\n",
            "(1200, 20)\n",
            "(1015, 20)\n"
          ]
        }
      ]
    },
    {
      "cell_type": "code",
      "metadata": {
        "colab": {
          "base_uri": "https://localhost:8080/"
        },
        "id": "o_u3SnP9j6w-",
        "outputId": "ac476a68-75fc-4ab4-836f-445b608d3ddf"
      },
      "source": [
        "testData = pd.DataFrame(histo_surfFeatures_test)\n",
        "testData.shape"
      ],
      "execution_count": null,
      "outputs": [
        {
          "output_type": "execute_result",
          "data": {
            "text/plain": [
              "(1015, 20)"
            ]
          },
          "metadata": {},
          "execution_count": 15
        }
      ]
    },
    {
      "cell_type": "code",
      "metadata": {
        "id": "TveRsI9skAD3"
      },
      "source": [
        "testData.to_csv('/drive/My Drive/CAD_1_1/SURF_test_hairRemoved.csv',index=False)"
      ],
      "execution_count": null,
      "outputs": []
    },
    {
      "cell_type": "code",
      "metadata": {
        "id": "N1NSEvJLiPTw",
        "colab": {
          "base_uri": "https://localhost:8080/"
        },
        "outputId": "988feed2-ce85-4ede-e072-cb7559419ef4"
      },
      "source": [
        "trainData = pd.DataFrame(histo_surfFeatures_trainX)\n",
        "trainData['labels']=0\n",
        "trainData['labels'][0:2400]=1"
      ],
      "execution_count": null,
      "outputs": [
        {
          "output_type": "stream",
          "name": "stderr",
          "text": [
            "/usr/local/lib/python3.7/dist-packages/ipykernel_launcher.py:3: SettingWithCopyWarning: \n",
            "A value is trying to be set on a copy of a slice from a DataFrame\n",
            "\n",
            "See the caveats in the documentation: https://pandas.pydata.org/pandas-docs/stable/user_guide/indexing.html#returning-a-view-versus-a-copy\n",
            "  This is separate from the ipykernel package so we can avoid doing imports until\n"
          ]
        }
      ]
    },
    {
      "cell_type": "code",
      "metadata": {
        "colab": {
          "base_uri": "https://localhost:8080/"
        },
        "id": "kcpOC9jTxOsw",
        "outputId": "63905cc6-35ce-473b-ce18-60961507eecd"
      },
      "source": [
        "valData = pd.DataFrame(histo_surfFeatures_valX)\n",
        "valData['labels']=0\n",
        "valData['labels'][0:600]=1"
      ],
      "execution_count": null,
      "outputs": [
        {
          "output_type": "stream",
          "name": "stderr",
          "text": [
            "/usr/local/lib/python3.7/dist-packages/ipykernel_launcher.py:3: SettingWithCopyWarning: \n",
            "A value is trying to be set on a copy of a slice from a DataFrame\n",
            "\n",
            "See the caveats in the documentation: https://pandas.pydata.org/pandas-docs/stable/user_guide/indexing.html#returning-a-view-versus-a-copy\n",
            "  This is separate from the ipykernel package so we can avoid doing imports until\n"
          ]
        }
      ]
    },
    {
      "cell_type": "code",
      "metadata": {
        "id": "sFT3Z-ElyuKt"
      },
      "source": [
        "trainData.to_csv('/drive/My Drive/CAD_1_1/SURF_Train_hairRemoved.csv',index=False)\n",
        "valData.to_csv('/drive/My Drive/CAD_1_1/SURF_val_hairRemoved.csv',index=False)"
      ],
      "execution_count": null,
      "outputs": []
    },
    {
      "cell_type": "code",
      "metadata": {
        "id": "V350YwUv5QVK"
      },
      "source": [
        "trainDataShuffle=trainData.sample(frac=1)\n",
        "valDataShuffle=valData.sample(frac=1)"
      ],
      "execution_count": null,
      "outputs": []
    },
    {
      "cell_type": "code",
      "metadata": {
        "id": "xDHyqubpXNim"
      },
      "source": [
        "trainDataShuffle.head(15)"
      ],
      "execution_count": null,
      "outputs": []
    },
    {
      "cell_type": "code",
      "metadata": {
        "colab": {
          "base_uri": "https://localhost:8080/"
        },
        "id": "5U8rBJCrzQ4U",
        "outputId": "80ac3177-47a6-4f5d-b7ed-59a89ce6875e"
      },
      "source": [
        "mlp = MLPClassifier(verbose=False, max_iter=600000)\n",
        "mlp.fit(trainDataShuffle.drop([\"labels\"],axis=1), trainDataShuffle['labels'])"
      ],
      "execution_count": null,
      "outputs": [
        {
          "output_type": "execute_result",
          "data": {
            "text/plain": [
              "MLPClassifier(activation='relu', alpha=0.0001, batch_size='auto', beta_1=0.9,\n",
              "              beta_2=0.999, early_stopping=False, epsilon=1e-08,\n",
              "              hidden_layer_sizes=(100,), learning_rate='constant',\n",
              "              learning_rate_init=0.001, max_fun=15000, max_iter=600000,\n",
              "              momentum=0.9, n_iter_no_change=10, nesterovs_momentum=True,\n",
              "              power_t=0.5, random_state=None, shuffle=True, solver='adam',\n",
              "              tol=0.0001, validation_fraction=0.1, verbose=False,\n",
              "              warm_start=False)"
            ]
          },
          "metadata": {},
          "execution_count": 23
        }
      ]
    },
    {
      "cell_type": "code",
      "metadata": {
        "colab": {
          "base_uri": "https://localhost:8080/"
        },
        "id": "nkk-3Agq1A09",
        "outputId": "1e12b1a2-2d7a-4489-8fe4-a22e2f2baa77"
      },
      "source": [
        "mlp.score(valDataShuffle.drop([\"labels\"],axis=1),valDataShuffle['labels'])"
      ],
      "execution_count": null,
      "outputs": [
        {
          "output_type": "execute_result",
          "data": {
            "text/plain": [
              "0.7308333333333333"
            ]
          },
          "metadata": {},
          "execution_count": 24
        }
      ]
    },
    {
      "cell_type": "code",
      "metadata": {
        "colab": {
          "base_uri": "https://localhost:8080/"
        },
        "id": "6ZBOz8Tp2A6A",
        "outputId": "6c4030ad-c2ad-4bf1-8211-c0f146ae7027"
      },
      "source": [
        "rndst=RandomForestClassifier(n_estimators=100)\n",
        "rndst.fit(trainDataShuffle.drop([\"labels\"],axis=1), trainDataShuffle['labels'])\n",
        "rndst.score(valDataShuffle.drop([\"labels\"],axis=1),valDataShuffle['labels'])"
      ],
      "execution_count": null,
      "outputs": [
        {
          "output_type": "execute_result",
          "data": {
            "text/plain": [
              "0.8"
            ]
          },
          "metadata": {},
          "execution_count": 20
        }
      ]
    },
    {
      "cell_type": "code",
      "metadata": {
        "id": "TrOOKl2a6Vv1",
        "colab": {
          "base_uri": "https://localhost:8080/"
        },
        "outputId": "555582c2-b32a-4866-fc93-9973f9e85dba"
      },
      "source": [
        "best_svc = SVC()\n",
        "best_svc.fit(trainDataShuffle.drop([\"labels\"],axis=1), trainDataShuffle['labels'])\n",
        "best_svc.score(valDataShuffle.drop([\"labels\"],axis=1),valDataShuffle['labels'])"
      ],
      "execution_count": null,
      "outputs": [
        {
          "output_type": "execute_result",
          "data": {
            "text/plain": [
              "0.7883333333333333"
            ]
          },
          "metadata": {},
          "execution_count": 22
        }
      ]
    }
  ]
}