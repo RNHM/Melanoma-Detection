{
  "nbformat": 4,
  "nbformat_minor": 0,
  "metadata": {
    "colab": {
      "name": "CAD_1_1: Feature Extraction with Hair Removal [GLCM+Color Moments (all channels)].ipynb",
      "provenance": [],
      "collapsed_sections": []
    },
    "kernelspec": {
      "name": "python3",
      "display_name": "Python 3"
    },
    "language_info": {
      "name": "python"
    }
  },
  "cells": [
    {
      "cell_type": "code",
      "metadata": {
        "id": "ybSBrvq6--Q2"
      },
      "source": [
        "from google.colab import drive\n",
        "import numpy as np\n",
        "import cv2\n",
        "import matplotlib.pyplot as plt\n",
        "import os\n",
        "from tqdm import tqdm\n",
        "import csv\n",
        "\n",
        "from sklearn.cluster import MiniBatchKMeans\n",
        "from sklearn.neural_network import MLPClassifier"
      ],
      "execution_count": null,
      "outputs": []
    },
    {
      "cell_type": "code",
      "metadata": {
        "colab": {
          "base_uri": "https://localhost:8080/"
        },
        "id": "bYDR4JLX_H4k",
        "outputId": "0ba7663a-6ae1-4404-c50a-f3e672c1bcf7"
      },
      "source": [
        "drive.mount('/drive') "
      ],
      "execution_count": null,
      "outputs": [
        {
          "output_type": "stream",
          "name": "stdout",
          "text": [
            "Drive already mounted at /drive; to attempt to forcibly remount, call drive.mount(\"/drive\", force_remount=True).\n"
          ]
        }
      ]
    },
    {
      "cell_type": "code",
      "metadata": {
        "id": "Bq4xlXPq_KRL"
      },
      "source": [
        "train_Les = np.load('/drive/My Drive/CAD_1_1/train_Les_hairRemoved.npz',allow_pickle=True)\n",
        "train_NV  = np.load('/drive/My Drive/CAD_1_1/train_NV_hairRemoved.npz',allow_pickle=True)\n",
        "val_Les   = np.load('/drive/My Drive/CAD_1_1/val_Les_hairRemoved.npz',allow_pickle=True)\n",
        "val_NV    = np.load('/drive/My Drive/CAD_1_1/val_NV_hairRemoved.npz',allow_pickle=True)\n",
        "test    = np.load('/drive/My Drive/CAD_1_1/test_hairRemoved.npz',allow_pickle=True)"
      ],
      "execution_count": null,
      "outputs": []
    },
    {
      "cell_type": "code",
      "metadata": {
        "id": "kYX78seD_Mi4"
      },
      "source": [
        "trainX_Les  = np.array(train_Les['arr_0'])\n",
        "trainX_NV   = np.array(train_NV['arr_0'])\n",
        "valX_Les    = np.array(val_Les['arr_0'])\n",
        "valX_NV     = np.array(val_NV['arr_0'])\n",
        "test     = np.array(test['test'])\n"
      ],
      "execution_count": null,
      "outputs": []
    },
    {
      "cell_type": "code",
      "metadata": {
        "colab": {
          "base_uri": "https://localhost:8080/"
        },
        "id": "hKc0wacl_PDs",
        "outputId": "30f14cfc-e313-4a88-e85e-0f53ca5f62a9"
      },
      "source": [
        "print(trainX_Les.shape)\n",
        "print(trainX_NV.shape)\n",
        "print(valX_Les.shape)\n",
        "print(valX_NV.shape)\n",
        "print(test.shape)\n"
      ],
      "execution_count": null,
      "outputs": [
        {
          "output_type": "stream",
          "name": "stdout",
          "text": [
            "(2400, 450, 600, 3)\n",
            "(2400, 450, 600, 3)\n",
            "(600, 450, 600, 3)\n",
            "(600, 450, 600, 3)\n",
            "(1015, 450, 600, 3)\n"
          ]
        }
      ]
    },
    {
      "cell_type": "markdown",
      "metadata": {
        "id": "Ar0RoLR1LZ48"
      },
      "source": [
        "GLCM(gray) Features"
      ]
    },
    {
      "cell_type": "code",
      "metadata": {
        "id": "bHJEwv3QLQfq"
      },
      "source": [
        "import skimage\n",
        "import skimage.feature\n",
        "from skimage.feature import greycomatrix\n",
        "from skimage.feature import greycoprops\n",
        "def GLCM(image):\n",
        "  GLCM_feature_data = np.zeros((1,6))\n",
        "  img=cv2.cvtColor(image,cv2.COLOR_BGR2GRAY)\n",
        "  glcm = greycomatrix(img, distances=[5], angles=[0], levels=256, symmetric=True, normed=True)\n",
        "  GLCM_feature_data[0][0]= greycoprops(glcm, 'contrast')\n",
        "  GLCM_feature_data[0][1]= greycoprops(glcm, 'correlation')\n",
        "  GLCM_feature_data[0][2]= greycoprops(glcm, 'dissimilarity')\n",
        "  GLCM_feature_data[0][3]= greycoprops(glcm, 'energy')\n",
        "  GLCM_feature_data[0][4]= greycoprops(glcm, 'ASM')\n",
        "  GLCM_feature_data[0][5]= greycoprops(glcm, 'homogeneity')\n",
        "  return GLCM_feature_data\n"
      ],
      "execution_count": null,
      "outputs": []
    },
    {
      "cell_type": "code",
      "metadata": {
        "colab": {
          "base_uri": "https://localhost:8080/"
        },
        "id": "gcuYOJ0VU3A7",
        "outputId": "1228b7ae-9486-493f-f53a-d2661066c145"
      },
      "source": [
        "GLCM_Features_trainX_Les  = []\n",
        "GLCM_Features_trainX_NV   = []\n",
        "GLCM_Features_valX_Les    = []\n",
        "GLCM_Features_valX_NV     = []\n",
        "\n",
        "for x in tqdm(trainX_Les):\n",
        "  des = GLCM(x)\n",
        "  if des is not None:\n",
        "    GLCM_Features_trainX_Les.append(des)\n",
        "\n",
        "for x in tqdm(trainX_NV):\n",
        "  des = GLCM(x)\n",
        "  if des is not None:\n",
        "    GLCM_Features_trainX_NV.append(des)\n",
        "\n",
        "for x in tqdm(valX_Les):\n",
        "  des = GLCM(x)\n",
        "  if des is not None:\n",
        "    GLCM_Features_valX_Les.append(des)\n",
        "\n",
        "for x in tqdm(valX_NV):\n",
        "  des = GLCM(x)\n",
        "  if des is not None:\n",
        "    GLCM_Features_valX_NV.append(des)"
      ],
      "execution_count": null,
      "outputs": [
        {
          "output_type": "stream",
          "name": "stderr",
          "text": [
            "100%|██████████| 2400/2400 [00:24<00:00, 96.49it/s]\n",
            "100%|██████████| 2400/2400 [00:23<00:00, 101.44it/s]\n",
            "100%|██████████| 600/600 [00:05<00:00, 104.71it/s]\n",
            "100%|██████████| 600/600 [00:05<00:00, 103.76it/s]\n"
          ]
        }
      ]
    },
    {
      "cell_type": "code",
      "metadata": {
        "colab": {
          "base_uri": "https://localhost:8080/"
        },
        "id": "38bfpDxsnNcq",
        "outputId": "fa1c39cc-4c24-4e26-9aac-4bd337ef1fa8"
      },
      "source": [
        "GLCM_Features_trainX_Les=np.squeeze(np.array(GLCM_Features_trainX_Les))\n",
        "GLCM_Features_trainX_NV=np.squeeze(np.array(GLCM_Features_trainX_NV))\n",
        "GLCM_Features_valX_Les=np.squeeze(np.array(GLCM_Features_valX_Les))\n",
        "GLCM_Features_valX_NV=np.squeeze(np.array(GLCM_Features_valX_NV))\n",
        "print(GLCM_Features_trainX_Les.shape)\n",
        "print(GLCM_Features_trainX_NV.shape)\n",
        "print(GLCM_Features_valX_Les.shape)\n",
        "print(GLCM_Features_valX_NV.shape)"
      ],
      "execution_count": null,
      "outputs": [
        {
          "output_type": "stream",
          "name": "stdout",
          "text": [
            "(2400, 6)\n",
            "(2400, 6)\n",
            "(600, 6)\n",
            "(600, 6)\n"
          ]
        }
      ]
    },
    {
      "cell_type": "code",
      "metadata": {
        "id": "nTp3Y818nfSH"
      },
      "source": [
        "GLCM_train=np.vstack((GLCM_Features_trainX_Les,GLCM_Features_trainX_NV))\n",
        "GLCM_val=np.vstack((GLCM_Features_valX_Les,GLCM_Features_valX_NV))"
      ],
      "execution_count": null,
      "outputs": []
    },
    {
      "cell_type": "markdown",
      "metadata": {
        "id": "cuIHNp-zp9yw"
      },
      "source": [
        "COLOR Feature "
      ]
    },
    {
      "cell_type": "code",
      "metadata": {
        "id": "uFDsC-xLp8tk"
      },
      "source": [
        "def color_moments(image):\n",
        "  color_feature_data = np.zeros((1,12))\n",
        "  color_feature_data[0][0] = np.mean(image[:,:,0])\n",
        "  color_feature_data[0][1] = np.mean(image[:,:,1])\n",
        "  color_feature_data[0][2]  = np.mean(image[:,:,2])\n",
        "  color_feature_data[0][3]  = np.std(image[:,:,0])\n",
        "  color_feature_data[0][4]   = np.std(image[:,:,1])\n",
        "  color_feature_data[0][5]   = np.std(image[:,:,2])\n",
        "  color_feature_data[0][6]  = skew(image[:,:,0].reshape(-1))\n",
        "  color_feature_data[0][7]  = skew(image[:,:,1].reshape(-1))\n",
        "  color_feature_data[0][8]  = skew(image[:,:,2].reshape(-1))\n",
        "  color_feature_data[0][9]  = kurtosis(image[:,:,0].reshape(-1))\n",
        "  color_feature_data[0][10]  = kurtosis(image[:,:,1].reshape(-1))\n",
        "  color_feature_data[0][11] = kurtosis(image[:,:,2].reshape(-1))\n",
        "  return color_feature_data"
      ],
      "execution_count": null,
      "outputs": []
    },
    {
      "cell_type": "code",
      "metadata": {
        "colab": {
          "base_uri": "https://localhost:8080/"
        },
        "id": "71-mS-zafHuk",
        "outputId": "32e96708-95b2-46e2-fa0b-95cad325a488"
      },
      "source": [
        "import numpy as np\n",
        "from scipy.stats import skew\n",
        "from scipy.stats import kurtosis\n",
        "color_test  = []\n",
        "for x in tqdm(test):\n",
        "  des = color_moments(x)\n",
        "  if des is not None:\n",
        "    color_test.append(des)"
      ],
      "execution_count": null,
      "outputs": [
        {
          "output_type": "stream",
          "name": "stderr",
          "text": [
            "100%|██████████| 1015/1015 [00:40<00:00, 25.02it/s]\n"
          ]
        }
      ]
    },
    {
      "cell_type": "code",
      "metadata": {
        "colab": {
          "base_uri": "https://localhost:8080/"
        },
        "id": "IqVE2f-9g_oQ",
        "outputId": "692fdae1-5d23-4a81-cf78-a686f6d372fb"
      },
      "source": [
        "np.array(color_test).shape"
      ],
      "execution_count": null,
      "outputs": [
        {
          "output_type": "execute_result",
          "data": {
            "text/plain": [
              "(1015, 1, 12)"
            ]
          },
          "metadata": {},
          "execution_count": 84
        }
      ]
    },
    {
      "cell_type": "code",
      "metadata": {
        "id": "X9FiSrKxhI-9"
      },
      "source": [
        "color_Test=np.squeeze(np.array(color_test))"
      ],
      "execution_count": null,
      "outputs": []
    },
    {
      "cell_type": "code",
      "metadata": {
        "colab": {
          "base_uri": "https://localhost:8080/"
        },
        "id": "vKl7CiX6hPg6",
        "outputId": "aca69ee1-b143-47c3-f8f1-4ee30b84290d"
      },
      "source": [
        "color_Test.shape"
      ],
      "execution_count": null,
      "outputs": [
        {
          "output_type": "execute_result",
          "data": {
            "text/plain": [
              "(1015, 12)"
            ]
          },
          "metadata": {},
          "execution_count": 88
        }
      ]
    },
    {
      "cell_type": "code",
      "metadata": {
        "colab": {
          "base_uri": "https://localhost:8080/"
        },
        "id": "-D3ZExkPqUXP",
        "outputId": "c7bf4958-0fbd-43aa-a659-5eae32367fb4"
      },
      "source": [
        "import numpy as np\n",
        "from scipy.stats import skew\n",
        "from scipy.stats import kurtosis\n",
        "color_Features_trainX_Les  = []\n",
        "color_Features_trainX_NV   = []\n",
        "color_Features_valX_Les    = []\n",
        "color_Features_valX_NV     = []\n",
        "\n",
        "for x in tqdm(trainX_Les):\n",
        "  des = color_moments(x)\n",
        "  if des is not None:\n",
        "    color_Features_trainX_Les.append(des)\n",
        "\n",
        "for x in tqdm(trainX_NV):\n",
        "  des = color_moments(x)\n",
        "  if des is not None:\n",
        "    color_Features_trainX_NV.append(des)\n",
        "\n",
        "for x in tqdm(valX_Les):\n",
        "  des = color_moments(x)\n",
        "  if des is not None:\n",
        "    color_Features_valX_Les.append(des)\n",
        "\n",
        "for x in tqdm(valX_NV):\n",
        "  des = color_moments(x)\n",
        "  if des is not None:\n",
        "    color_Features_valX_NV.append(des)\n"
      ],
      "execution_count": null,
      "outputs": [
        {
          "output_type": "stream",
          "name": "stderr",
          "text": [
            "100%|██████████| 2400/2400 [02:58<00:00, 13.43it/s]\n",
            "100%|██████████| 2400/2400 [02:56<00:00, 13.63it/s]\n",
            "100%|██████████| 600/600 [00:44<00:00, 13.55it/s]\n",
            "100%|██████████| 600/600 [00:46<00:00, 13.04it/s]\n"
          ]
        }
      ]
    },
    {
      "cell_type": "code",
      "metadata": {
        "colab": {
          "base_uri": "https://localhost:8080/"
        },
        "id": "nf62byVyub1V",
        "outputId": "b85a42c3-1bb6-491d-8a99-176b3cc77f5e"
      },
      "source": [
        "color_Features_trainX_Les=np.squeeze(np.array(color_Features_trainX_Les))\n",
        "color_Features_trainX_NV=np.squeeze(np.array(color_Features_trainX_NV))\n",
        "color_Features_valX_Les=np.squeeze(np.array(color_Features_valX_Les))\n",
        "color_Features_valX_NV=np.squeeze(np.array(color_Features_valX_NV))\n",
        "print(color_Features_trainX_Les.shape)\n",
        "print(color_Features_trainX_NV.shape)\n",
        "print(color_Features_valX_Les.shape)\n",
        "print(color_Features_valX_NV.shape)"
      ],
      "execution_count": null,
      "outputs": [
        {
          "output_type": "stream",
          "name": "stdout",
          "text": [
            "(2400, 12)\n",
            "(2400, 12)\n",
            "(600, 12)\n",
            "(600, 12)\n"
          ]
        }
      ]
    },
    {
      "cell_type": "code",
      "metadata": {
        "id": "TTKFcjaMyK9k"
      },
      "source": [
        "color_train=np.vstack((color_Features_trainX_Les,color_Features_trainX_NV))\n",
        "color_val=np.vstack((color_Features_valX_Les,color_Features_valX_NV))"
      ],
      "execution_count": null,
      "outputs": []
    },
    {
      "cell_type": "markdown",
      "metadata": {
        "id": "lJYvsFzmUXb6"
      },
      "source": [
        "GLCM (All Channels)"
      ]
    },
    {
      "cell_type": "code",
      "metadata": {
        "id": "KvpvKfa3UbaO"
      },
      "source": [
        "def GLCM_features(image, bit_depth=8):\n",
        "  GLCM_feature_data = np.zeros((1,12))\n",
        "  GLCM_0  = greycomatrix(image[:,:,0],  [1], [0, np.pi/4, np.pi/2, 3*np.pi/4], levels=2**bit_depth)\n",
        "  GLCM_1  = greycomatrix(image[:,:,1],  [1], [0, np.pi/4, np.pi/2, 3*np.pi/4], levels=2**bit_depth)\n",
        "  GLCM_2  = greycomatrix(image[:,:,2],  [1], [0, np.pi/4, np.pi/2, 3*np.pi/4], levels=2**bit_depth)\n",
        "  GLCM_feature_data[0][0]  = greycoprops(GLCM_0,  'contrast').mean()\n",
        "  GLCM_feature_data[0][1]  = greycoprops(GLCM_1,  'contrast').mean()\n",
        "  GLCM_feature_data[0][2]  = greycoprops(GLCM_2,  'contrast').mean()\n",
        "  GLCM_feature_data[0][3]    = greycoprops(GLCM_0,  'dissimilarity').mean()\n",
        "  GLCM_feature_data[0][4]    = greycoprops(GLCM_1,  'dissimilarity').mean()\n",
        "  GLCM_feature_data[0][5]    = greycoprops(GLCM_2,  'dissimilarity').mean()\n",
        "  GLCM_feature_data[0][6]    = greycoprops(GLCM_0,  'correlation').mean()\n",
        "  GLCM_feature_data[0][7]    = greycoprops(GLCM_1,  'correlation').mean()\n",
        "  GLCM_feature_data[0][8]    = greycoprops(GLCM_2,  'correlation').mean()\n",
        "  GLCM_feature_data[0][9]      = greycoprops(GLCM_0,  'homogeneity').mean()\n",
        "  GLCM_feature_data[0][10]      = greycoprops(GLCM_1,  'homogeneity').mean()\n",
        "  GLCM_feature_data[0][11]      = greycoprops(GLCM_2,  'homogeneity').mean()\n",
        "  return GLCM_feature_data"
      ],
      "execution_count": null,
      "outputs": []
    },
    {
      "cell_type": "code",
      "metadata": {
        "colab": {
          "base_uri": "https://localhost:8080/"
        },
        "id": "oZOz8W-qUjPV",
        "outputId": "00a239b3-d67c-49d2-f71a-f9a67d1db97c"
      },
      "source": [
        "import numpy as np\n",
        "from scipy.stats import skew\n",
        "from scipy.stats import kurtosis\n",
        "import skimage.feature\n",
        "from skimage.feature import greycomatrix\n",
        "from skimage.feature import greycoprops\n",
        "glcm_Features_trainX_Les  = []\n",
        "glcm_Features_trainX_NV   = []\n",
        "glcm_Features_valX_Les    = []\n",
        "glcm_Features_valX_NV     = []\n",
        "glcmHSV_Features_trainX_Les  = []\n",
        "glcmHSV_Features_trainX_NV   = []\n",
        "glcmHSV_Features_valX_Les    = []\n",
        "glcmHSV_Features_valX_NV     = []\n",
        "glcmYCR_Features_trainX_Les  = []\n",
        "glcmYCR_Features_trainX_NV   = []\n",
        "glcmYCR_Features_valX_Les    = []\n",
        "glcmYCR_Features_valX_NV     = []\n",
        "\n",
        "for x in tqdm(trainX_Les):\n",
        "  RGB    = GLCM_features(cv2.cvtColor(x, cv2.COLOR_BGR2RGB))\n",
        "  HSV    = GLCM_features(cv2.cvtColor(x, cv2.COLOR_BGR2HSV))\n",
        "  YCR  = GLCM_features(cv2.cvtColor(x, cv2.COLOR_BGR2YCR_CB))\n",
        "  DES  = np.concatenate((RGB,HSV,YCR),axis=0)\n",
        "  glcm_Features_trainX_Les.append(DES)\n",
        "\n",
        "for x in tqdm(trainX_NV):\n",
        "  RGB    = GLCM_features(cv2.cvtColor(x, cv2.COLOR_BGR2RGB))\n",
        "  HSV    = GLCM_features(cv2.cvtColor(x, cv2.COLOR_BGR2HSV))\n",
        "  YCR  = GLCM_features(cv2.cvtColor(x, cv2.COLOR_BGR2YCR_CB))\n",
        "  DES  = np.concatenate((RGB,HSV,YCR),axis=0)\n",
        "  glcm_Features_trainX_NV.append(DES)\n",
        "\n",
        "for x in tqdm(valX_Les):\n",
        "  RGB    = GLCM_features(cv2.cvtColor(x, cv2.COLOR_BGR2RGB))\n",
        "  HSV    = GLCM_features(cv2.cvtColor(x, cv2.COLOR_BGR2HSV))\n",
        "  YCR  = GLCM_features(cv2.cvtColor(x, cv2.COLOR_BGR2YCR_CB))\n",
        "  DES  = np.concatenate((RGB,HSV,YCR),axis=0)\n",
        "  glcm_Features_valX_Les.append(DES)\n",
        "\n",
        "for x in tqdm(valX_NV):\n",
        "  RGB    = GLCM_features(cv2.cvtColor(x, cv2.COLOR_BGR2RGB))\n",
        "  HSV    = GLCM_features(cv2.cvtColor(x, cv2.COLOR_BGR2HSV))\n",
        "  YCR  = GLCM_features(cv2.cvtColor(x, cv2.COLOR_BGR2YCR_CB))\n",
        "  DES  = np.concatenate((RGB,HSV,YCR),axis=0)\n",
        "  glcm_Features_valX_NV.append(DES)"
      ],
      "execution_count": null,
      "outputs": [
        {
          "output_type": "stream",
          "name": "stderr",
          "text": [
            "100%|██████████| 2400/2400 [12:09<00:00,  3.29it/s]\n",
            "100%|██████████| 2400/2400 [12:07<00:00,  3.30it/s]\n",
            "100%|██████████| 600/600 [03:03<00:00,  3.27it/s]\n",
            "100%|██████████| 600/600 [03:01<00:00,  3.30it/s]\n"
          ]
        }
      ]
    },
    {
      "cell_type": "code",
      "metadata": {
        "colab": {
          "base_uri": "https://localhost:8080/"
        },
        "id": "krWpjSTUMG28",
        "outputId": "e1e26e31-ffda-431d-daf7-cfe039ed1d91"
      },
      "source": [
        "import numpy as np\n",
        "from scipy.stats import skew\n",
        "from scipy.stats import kurtosis\n",
        "import skimage.feature\n",
        "from skimage.feature import greycomatrix\n",
        "from skimage.feature import greycoprops\n",
        "\n",
        "glcm_test    = []\n",
        "for x in tqdm(test):\n",
        "  RGB    = GLCM_features(cv2.cvtColor(x, cv2.COLOR_BGR2RGB))\n",
        "  HSV    = GLCM_features(cv2.cvtColor(x, cv2.COLOR_BGR2HSV))\n",
        "  YCR  = GLCM_features(cv2.cvtColor(x, cv2.COLOR_BGR2YCR_CB))\n",
        "  DES  = np.concatenate((RGB,HSV,YCR),axis=0)\n",
        "  glcm_test.append(DES)\n",
        "\n",
        "glcm_test\n",
        "for x in tqdm(test):\n",
        "  RGB    = GLCM_features(cv2.cvtColor(x, cv2.COLOR_BGR2RGB))\n",
        "  glcm_test.append(RGB)\n",
        "  HSV    = GLCM_features(cv2.cvtColor(x, cv2.COLOR_BGR2HSV))\n",
        "  glcm_test.append(HSV)\n",
        "  YCR  = GLCM_features(cv2.cvtColor(x, cv2.COLOR_BGR2YCR_CB))\n",
        "  glcm_test.append(YCR)\n"
      ],
      "execution_count": null,
      "outputs": [
        {
          "output_type": "stream",
          "name": "stderr",
          "text": [
            "100%|██████████| 1015/1015 [22:46<00:00,  1.35s/it]\n"
          ]
        }
      ]
    },
    {
      "cell_type": "code",
      "metadata": {
        "id": "615psWjZd9N9"
      },
      "source": [
        "glcm_test_array=np.array(glcm_test)\n"
      ],
      "execution_count": null,
      "outputs": []
    },
    {
      "cell_type": "code",
      "metadata": {
        "colab": {
          "base_uri": "https://localhost:8080/"
        },
        "id": "TdkKCcR-RZPu",
        "outputId": "a4853c4f-c27f-449b-ae29-3494e64d6db1"
      },
      "source": [
        "newarr1 = glcm_test_array.reshape(glcm_test_array.shape[0], (glcm_test_array.shape[1]*glcm_test_array.shape[2]))\n",
        "print(newarr1.shape)"
      ],
      "execution_count": null,
      "outputs": [
        {
          "output_type": "stream",
          "name": "stdout",
          "text": [
            "(1015, 36)\n"
          ]
        }
      ]
    },
    {
      "cell_type": "code",
      "metadata": {
        "colab": {
          "base_uri": "https://localhost:8080/"
        },
        "id": "8V5DFjy5ltxC",
        "outputId": "4b5f6e2b-7c44-446f-8dc7-f2be61ad0b57"
      },
      "source": [
        "newarr1 = glcm_Features_trainX_Les.reshape(glcm_Features_trainX_Les.shape[0], (glcm_Features_trainX_Les.shape[1]*glcm_Features_trainX_Les.shape[2]))\n",
        "newarr2 = glcm_Features_trainX_NV.reshape(glcm_Features_trainX_NV.shape[0], (glcm_Features_trainX_NV.shape[1]*glcm_Features_trainX_NV.shape[2]))\n",
        "newarr3 = glcm_Features_valX_Les.reshape(glcm_Features_valX_Les.shape[0], (glcm_Features_valX_Les.shape[1]*glcm_Features_valX_Les.shape[2]))\n",
        "newarr4 = glcm_Features_valX_NV.reshape(glcm_Features_valX_NV.shape[0], (glcm_Features_valX_NV.shape[1]*glcm_Features_valX_NV.shape[2]))\n",
        "print(np.array(newarr1).shape)\n",
        "print(np.array(newarr2).shape)\n",
        "print(np.array(newarr3).shape)\n",
        "print(np.array(newarr4).shape)"
      ],
      "execution_count": null,
      "outputs": [
        {
          "output_type": "stream",
          "name": "stdout",
          "text": [
            "(2400, 36)\n",
            "(2400, 36)\n",
            "(600, 36)\n",
            "(600, 36)\n"
          ]
        }
      ]
    },
    {
      "cell_type": "code",
      "metadata": {
        "id": "xh3Fxd4mNr1P"
      },
      "source": [
        "np.vstack(glcm_test)"
      ],
      "execution_count": null,
      "outputs": []
    },
    {
      "cell_type": "code",
      "metadata": {
        "colab": {
          "base_uri": "https://localhost:8080/"
        },
        "id": "JRZEVNtdx665",
        "outputId": "63f26b1f-9874-4615-98c2-f7282d67ea38"
      },
      "source": [
        "glcm_train=np.vstack((newarr1,newarr2))\n",
        "glcm_val=np.vstack((newarr3,newarr4))\n",
        "print(glcm_train.shape)"
      ],
      "execution_count": null,
      "outputs": [
        {
          "output_type": "stream",
          "name": "stdout",
          "text": [
            "(4800, 36)\n"
          ]
        }
      ]
    },
    {
      "cell_type": "code",
      "metadata": {
        "colab": {
          "base_uri": "https://localhost:8080/"
        },
        "id": "Ak-NbIO8lVbw",
        "outputId": "c0cb5b23-e65d-426d-c948-cf7fc612aaab"
      },
      "source": [
        "glcm_Features_trainX_Les=np.squeeze(np.array(glcm_Features_trainX_Les))\n",
        "glcm_Features_trainX_NV=np.squeeze(np.array(glcm_Features_trainX_NV))\n",
        "glcm_Features_valX_Les=np.squeeze(np.array(glcm_Features_valX_Les))\n",
        "glcm_Features_valX_NV=np.squeeze(np.array(glcm_Features_valX_NV))\n",
        "print(glcm_Features_trainX_Les.shape)\n",
        "print(glcm_Features_trainX_NV.shape)\n",
        "print(glcm_Features_valX_Les.shape)\n",
        "print(glcm_Features_valX_NV.shape)"
      ],
      "execution_count": null,
      "outputs": [
        {
          "output_type": "stream",
          "name": "stdout",
          "text": [
            "(2400, 3, 12)\n",
            "(2400, 3, 12)\n",
            "(600, 3, 12)\n",
            "(600, 3, 12)\n"
          ]
        }
      ]
    },
    {
      "cell_type": "code",
      "metadata": {
        "colab": {
          "base_uri": "https://localhost:8080/"
        },
        "id": "d8AzNyloe8ER",
        "outputId": "4d7ebe1a-dbe4-4733-b79e-c666de00859c"
      },
      "source": [
        "GLCM_Features_trainX_Les=np.squeeze(np.array(GLCM_Features_trainX_Les))\n",
        "GLCM_Features_trainX_NV=np.squeeze(np.array(GLCM_Features_trainX_NV))\n",
        "GLCM_Features_valX_Les=np.squeeze(np.array(GLCM_Features_valX_Les))\n",
        "GLCM_Features_valX_NV=np.squeeze(np.array(GLCM_Features_valX_NV))\n",
        "print(GLCM_Features_trainX_Les.shape)\n",
        "print(GLCM_Features_trainX_NV.shape)\n",
        "print(GLCM_Features_valX_Les.shape)\n",
        "print(GLCM_Features_valX_NV.shape)"
      ],
      "execution_count": null,
      "outputs": [
        {
          "output_type": "stream",
          "name": "stdout",
          "text": [
            "(2400, 6)\n",
            "(2400, 6)\n",
            "(600, 6)\n",
            "(600, 6)\n"
          ]
        }
      ]
    },
    {
      "cell_type": "code",
      "metadata": {
        "id": "_ld40Oj-fxXA"
      },
      "source": [
        "GLCM_train=np.vstack((GLCM_Features_trainX_Les,GLCM_Features_trainX_NV))\n",
        "GLCM_val=np.vstack((GLCM_Features_valX_Les,GLCM_Features_valX_NV))"
      ],
      "execution_count": null,
      "outputs": []
    },
    {
      "cell_type": "code",
      "metadata": {
        "id": "VQgKewIlhJW3"
      },
      "source": [
        "train=GLCM_train\n",
        "val=GLCM_val"
      ],
      "execution_count": null,
      "outputs": []
    },
    {
      "cell_type": "code",
      "metadata": {
        "colab": {
          "base_uri": "https://localhost:8080/"
        },
        "id": "IdyTHMZ5HEZz",
        "outputId": "d332c5b1-3ac7-4748-9f5c-1a36fbcdb8b5"
      },
      "source": [
        "import pandas as pd\n",
        "\n",
        "trainData = pd.DataFrame(color_train)\n",
        "trainData['labels']=0\n",
        "trainData['labels'][0:2400]=1\n",
        "valData = pd.DataFrame(color_val)\n",
        "valData['labels']=0\n",
        "valData['labels'][0:600]=1"
      ],
      "execution_count": null,
      "outputs": [
        {
          "output_type": "stream",
          "name": "stderr",
          "text": [
            "/usr/local/lib/python3.7/dist-packages/ipykernel_launcher.py:5: SettingWithCopyWarning: \n",
            "A value is trying to be set on a copy of a slice from a DataFrame\n",
            "\n",
            "See the caveats in the documentation: https://pandas.pydata.org/pandas-docs/stable/user_guide/indexing.html#returning-a-view-versus-a-copy\n",
            "  \"\"\"\n",
            "/usr/local/lib/python3.7/dist-packages/ipykernel_launcher.py:8: SettingWithCopyWarning: \n",
            "A value is trying to be set on a copy of a slice from a DataFrame\n",
            "\n",
            "See the caveats in the documentation: https://pandas.pydata.org/pandas-docs/stable/user_guide/indexing.html#returning-a-view-versus-a-copy\n",
            "  \n"
          ]
        }
      ]
    },
    {
      "cell_type": "code",
      "metadata": {
        "id": "AioSB1uLeYIN"
      },
      "source": [
        "testData = pd.DataFrame(color_Test)\n"
      ],
      "execution_count": null,
      "outputs": []
    },
    {
      "cell_type": "code",
      "metadata": {
        "id": "gAx3ofgaemAr"
      },
      "source": [
        "testData.to_csv('/drive/My Drive/CAD_1_1/goodcolor_test.csv',index=False)"
      ],
      "execution_count": null,
      "outputs": []
    },
    {
      "cell_type": "code",
      "metadata": {
        "id": "YrqUG5_SW2DE"
      },
      "source": [
        "trainDataShuffle=trainData.sample(frac=1)\n",
        "valDataShuffle=valData.sample(frac=1)"
      ],
      "execution_count": null,
      "outputs": []
    },
    {
      "cell_type": "code",
      "metadata": {
        "id": "UN_hlHxVW8gF"
      },
      "source": [
        "trainData.to_csv('/drive/My Drive/CAD_1_1/goodcolor_train.csv',index=False)\n",
        "valData.to_csv('/drive/My Drive/CAD_1_1/goodcolor_val.csv',index=False)"
      ],
      "execution_count": null,
      "outputs": []
    },
    {
      "cell_type": "code",
      "metadata": {
        "id": "GjVaHUYNHXOb"
      },
      "source": [
        "from sklearn.ensemble import RandomForestClassifier\n",
        "from sklearn import metrics\n",
        "rndst=RandomForestClassifier(n_estimators=100)\n",
        "rndst.fit(trainData.drop([\"labels\"],axis=1), trainData['labels'])\n",
        "predict=rndst.predict(valData.drop([\"labels\"],axis=1))\n",
        "#rndst.score(predict,valData['labels'])\n",
        "print(metrics.accuracy_score(valData['labels'],predict))\n",
        "\n"
      ],
      "execution_count": null,
      "outputs": []
    },
    {
      "cell_type": "code",
      "metadata": {
        "colab": {
          "base_uri": "https://localhost:8080/"
        },
        "id": "Nf9ahzgWgtgW",
        "outputId": "512946dc-6afc-40f0-b996-edeb05742839"
      },
      "source": [
        "from sklearn.svm import SVC\n",
        "from sklearn import metrics\n",
        "svc=SVC()\n",
        "svc.fit(trainData.drop([\"labels\"],axis=1), trainData['labels'])\n",
        "predict=svc.predict(valData.drop([\"labels\"],axis=1))\n",
        "#rndst.score(predict,valData['labels'])\n",
        "print(metrics.accuracy_score(valData['labels'],predict))"
      ],
      "execution_count": null,
      "outputs": [
        {
          "output_type": "stream",
          "name": "stdout",
          "text": [
            "0.7808333333333334\n"
          ]
        }
      ]
    }
  ]
}