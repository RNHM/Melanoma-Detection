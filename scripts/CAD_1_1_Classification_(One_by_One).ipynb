{
  "nbformat": 4,
  "nbformat_minor": 0,
  "metadata": {
    "colab": {
      "name": "CAD_1_1: Classification (One by One).ipynb",
      "provenance": [],
      "collapsed_sections": []
    },
    "kernelspec": {
      "name": "python3",
      "display_name": "Python 3"
    },
    "language_info": {
      "name": "python"
    }
  },
  "cells": [
    {
      "cell_type": "markdown",
      "metadata": {
        "id": "xTaP8HWgIN0c"
      },
      "source": [
        "In this notebook, we are just reading all the feature vectors previously saved to see how they perform individually or when combined in different ways. The results at the end are with just SURF"
      ]
    },
    {
      "cell_type": "code",
      "metadata": {
        "id": "wId8OCXk7Sox"
      },
      "source": [
        "                                                                                                                                                                                                                                                                                                    from google.colab import drive\n",
        "import numpy as np\n",
        "import pandas as pd\n",
        "\n",
        "from sklearn.ensemble import RandomForestClassifier\n",
        "from sklearn.neural_network import MLPClassifier\n",
        "from sklearn.preprocessing import StandardScaler as ss\n",
        "from sklearn.svm import SVC\n",
        "from sklearn.svm import LinearSVC"
      ],
      "execution_count": null,
      "outputs": []
    },
    {
      "cell_type": "code",
      "metadata": {
        "colab": {
          "base_uri": "https://localhost:8080/"
        },
        "id": "YYL4DgwX7-qy",
        "outputId": "45d96c1b-b302-44cd-fedc-617d20785b34"
      },
      "source": [
        "drive.mount('/drive') "
      ],
      "execution_count": null,
      "outputs": [
        {
          "output_type": "stream",
          "name": "stdout",
          "text": [
            "Mounted at /drive\n"
          ]
        }
      ]
    },
    {
      "cell_type": "code",
      "metadata": {
        "id": "N1NSEvJLiPTw"
      },
      "source": [
        "trainDataORB = pd.read_csv('/drive/My Drive/CAD_1_1/rawORB_Train.csv')\n",
        "trainDataSIFT = pd.read_csv('/drive/My Drive/CAD_1_1/rawSIFT_Train.csv')\n",
        "trainDataSURF = pd.read_csv('/drive/My Drive/CAD_1_1/rawSURF_Train.csv')\n",
        "\n",
        "valDataORB = pd.read_csv('/drive/My Drive/CAD_1_1/rawORB_val.csv')\n",
        "valDataSIFT = pd.read_csv('/drive/My Drive/CAD_1_1/rawSIFT_val.csv')\n",
        "valDataSURF = pd.read_csv('/drive/My Drive/CAD_1_1/rawSURF_val.csv')\n",
        "\n",
        "trainGoodLBP =  pd.read_csv('/drive/My Drive/CAD_1_1/goodLBP_Train.csv')\n",
        "valGoodLBP = pd.read_csv('/drive/My Drive/CAD_1_1/goodLBP_val.csv')\n",
        "\n",
        "trainGoodglcm =  pd.read_csv('/drive/My Drive/CAD_1_1/goodglcm3_Train.csv')\n",
        "valGoodglcm = pd.read_csv('/drive/My Drive/CAD_1_1/goodglcm3_val.csv')\n",
        "\n",
        "trainGoodcolor =  pd.read_csv('/drive/My Drive/CAD_1_1/goodcolor_Train.csv')\n",
        "valGoodcolor = pd.read_csv('/drive/My Drive/CAD_1_1/goodcolor_val.csv')\n",
        "\n",
        "trainDataRGBLBPGLCM = pd.read_csv('/drive/My Drive/CAD_1_1/raw_RGB_LBP_GLCM_Train_hairRemoved.csv')\n",
        "valDataRGBLBPGLCM = pd.read_csv('/drive/My Drive/CAD_1_1/raw_RGB_LBP_GLCM_val_hairRemoved.csv')\n",
        "\n",
        "trainLBPRGB =  pd.read_csv('/drive/My Drive/CAD_1_1/LBPrgb_Train.csv')\n",
        "valLBPRGB = pd.read_csv('/drive/My Drive/CAD_1_1/LBPrgb_val.csv')\n",
        "\n",
        "trainColourFeatures = pd.read_csv('/drive/My Drive/CAD_1_1/colourFeatures_Train_hairRemoved.csv')\n",
        "valColourFeatures = pd.read_csv('/drive/My Drive/CAD_1_1/colourFeatures_val_hairRemoved.csv')"
      ],
      "execution_count": null,
      "outputs": []
    },
    {
      "cell_type": "code",
      "metadata": {
        "id": "V350YwUv5QVK"
      },
      "source": [
        "trainDataShuffle=trainDataSURF.sample(frac=1)\n",
        "valDataShuffle=valDataSURF.sample(frac=1)"
      ],
      "execution_count": null,
      "outputs": []
    },
    {
      "cell_type": "code",
      "metadata": {
        "colab": {
          "base_uri": "https://localhost:8080/"
        },
        "id": "dc21fyYsU2OG",
        "outputId": "c787b532-d2cd-4072-bcd0-5beb344cd647"
      },
      "source": [
        "trainDataShuffle.shape"
      ],
      "execution_count": null,
      "outputs": [
        {
          "output_type": "execute_result",
          "data": {
            "text/plain": [
              "(4800, 21)"
            ]
          },
          "metadata": {},
          "execution_count": 42
        }
      ]
    },
    {
      "cell_type": "code",
      "metadata": {
        "colab": {
          "base_uri": "https://localhost:8080/",
          "height": 224
        },
        "id": "hcJDIVK9BK2A",
        "outputId": "de91b946-41db-4ed8-e254-301d89f77636"
      },
      "source": [
        "valDataShuffle.head(5)"
      ],
      "execution_count": null,
      "outputs": [
        {
          "output_type": "execute_result",
          "data": {
            "text/html": [
              "<div>\n",
              "<style scoped>\n",
              "    .dataframe tbody tr th:only-of-type {\n",
              "        vertical-align: middle;\n",
              "    }\n",
              "\n",
              "    .dataframe tbody tr th {\n",
              "        vertical-align: top;\n",
              "    }\n",
              "\n",
              "    .dataframe thead th {\n",
              "        text-align: right;\n",
              "    }\n",
              "</style>\n",
              "<table border=\"1\" class=\"dataframe\">\n",
              "  <thead>\n",
              "    <tr style=\"text-align: right;\">\n",
              "      <th></th>\n",
              "      <th>0</th>\n",
              "      <th>1</th>\n",
              "      <th>2</th>\n",
              "      <th>3</th>\n",
              "      <th>4</th>\n",
              "      <th>5</th>\n",
              "      <th>6</th>\n",
              "      <th>7</th>\n",
              "      <th>8</th>\n",
              "      <th>9</th>\n",
              "      <th>10</th>\n",
              "      <th>11</th>\n",
              "      <th>12</th>\n",
              "      <th>13</th>\n",
              "      <th>14</th>\n",
              "      <th>15</th>\n",
              "      <th>16</th>\n",
              "      <th>17</th>\n",
              "      <th>18</th>\n",
              "      <th>19</th>\n",
              "      <th>labels</th>\n",
              "    </tr>\n",
              "  </thead>\n",
              "  <tbody>\n",
              "    <tr>\n",
              "      <th>739</th>\n",
              "      <td>0.033333</td>\n",
              "      <td>0.077778</td>\n",
              "      <td>0.000000</td>\n",
              "      <td>0.092593</td>\n",
              "      <td>0.062963</td>\n",
              "      <td>0.037037</td>\n",
              "      <td>0.081481</td>\n",
              "      <td>0.118519</td>\n",
              "      <td>0.035185</td>\n",
              "      <td>0.064815</td>\n",
              "      <td>0.0</td>\n",
              "      <td>0.081481</td>\n",
              "      <td>0.070370</td>\n",
              "      <td>0.059259</td>\n",
              "      <td>0.042593</td>\n",
              "      <td>0.046296</td>\n",
              "      <td>0.059259</td>\n",
              "      <td>0.024074</td>\n",
              "      <td>0.009259</td>\n",
              "      <td>0.003704</td>\n",
              "      <td>0</td>\n",
              "    </tr>\n",
              "    <tr>\n",
              "      <th>1016</th>\n",
              "      <td>0.018868</td>\n",
              "      <td>0.056604</td>\n",
              "      <td>0.018868</td>\n",
              "      <td>0.056604</td>\n",
              "      <td>0.009434</td>\n",
              "      <td>0.009434</td>\n",
              "      <td>0.198113</td>\n",
              "      <td>0.056604</td>\n",
              "      <td>0.028302</td>\n",
              "      <td>0.066038</td>\n",
              "      <td>0.0</td>\n",
              "      <td>0.169811</td>\n",
              "      <td>0.066038</td>\n",
              "      <td>0.056604</td>\n",
              "      <td>0.094340</td>\n",
              "      <td>0.018868</td>\n",
              "      <td>0.075472</td>\n",
              "      <td>0.000000</td>\n",
              "      <td>0.000000</td>\n",
              "      <td>0.000000</td>\n",
              "      <td>0</td>\n",
              "    </tr>\n",
              "    <tr>\n",
              "      <th>20</th>\n",
              "      <td>0.021583</td>\n",
              "      <td>0.021583</td>\n",
              "      <td>0.000000</td>\n",
              "      <td>0.172662</td>\n",
              "      <td>0.107914</td>\n",
              "      <td>0.028777</td>\n",
              "      <td>0.057554</td>\n",
              "      <td>0.071942</td>\n",
              "      <td>0.050360</td>\n",
              "      <td>0.057554</td>\n",
              "      <td>0.0</td>\n",
              "      <td>0.093525</td>\n",
              "      <td>0.021583</td>\n",
              "      <td>0.079137</td>\n",
              "      <td>0.086331</td>\n",
              "      <td>0.057554</td>\n",
              "      <td>0.057554</td>\n",
              "      <td>0.000000</td>\n",
              "      <td>0.000000</td>\n",
              "      <td>0.014388</td>\n",
              "      <td>1</td>\n",
              "    </tr>\n",
              "    <tr>\n",
              "      <th>964</th>\n",
              "      <td>0.023179</td>\n",
              "      <td>0.019868</td>\n",
              "      <td>0.000000</td>\n",
              "      <td>0.092715</td>\n",
              "      <td>0.079470</td>\n",
              "      <td>0.013245</td>\n",
              "      <td>0.013245</td>\n",
              "      <td>0.079470</td>\n",
              "      <td>0.082781</td>\n",
              "      <td>0.046358</td>\n",
              "      <td>0.0</td>\n",
              "      <td>0.086093</td>\n",
              "      <td>0.036424</td>\n",
              "      <td>0.026490</td>\n",
              "      <td>0.039735</td>\n",
              "      <td>0.109272</td>\n",
              "      <td>0.178808</td>\n",
              "      <td>0.059603</td>\n",
              "      <td>0.013245</td>\n",
              "      <td>0.000000</td>\n",
              "      <td>0</td>\n",
              "    </tr>\n",
              "    <tr>\n",
              "      <th>974</th>\n",
              "      <td>0.000000</td>\n",
              "      <td>0.040816</td>\n",
              "      <td>0.000000</td>\n",
              "      <td>0.183673</td>\n",
              "      <td>0.163265</td>\n",
              "      <td>0.020408</td>\n",
              "      <td>0.020408</td>\n",
              "      <td>0.020408</td>\n",
              "      <td>0.020408</td>\n",
              "      <td>0.081633</td>\n",
              "      <td>0.0</td>\n",
              "      <td>0.000000</td>\n",
              "      <td>0.061224</td>\n",
              "      <td>0.000000</td>\n",
              "      <td>0.163265</td>\n",
              "      <td>0.020408</td>\n",
              "      <td>0.183673</td>\n",
              "      <td>0.020408</td>\n",
              "      <td>0.000000</td>\n",
              "      <td>0.000000</td>\n",
              "      <td>0</td>\n",
              "    </tr>\n",
              "  </tbody>\n",
              "</table>\n",
              "</div>"
            ],
            "text/plain": [
              "             0         1         2  ...        18        19  labels\n",
              "739   0.033333  0.077778  0.000000  ...  0.009259  0.003704       0\n",
              "1016  0.018868  0.056604  0.018868  ...  0.000000  0.000000       0\n",
              "20    0.021583  0.021583  0.000000  ...  0.000000  0.014388       1\n",
              "964   0.023179  0.019868  0.000000  ...  0.013245  0.000000       0\n",
              "974   0.000000  0.040816  0.000000  ...  0.000000  0.000000       0\n",
              "\n",
              "[5 rows x 21 columns]"
            ]
          },
          "metadata": {},
          "execution_count": 43
        }
      ]
    },
    {
      "cell_type": "code",
      "metadata": {
        "colab": {
          "base_uri": "https://localhost:8080/"
        },
        "id": "6ZBOz8Tp2A6A",
        "outputId": "edf72aa7-a5e9-460a-f955-c88ac60c7903"
      },
      "source": [
        "rndst=RandomForestClassifier(n_estimators=100)\n",
        "rndst.fit(trainDataShuffle.drop([\"labels\"],axis=1), trainDataShuffle['labels'])\n",
        "rndst.score(valDataShuffle.drop([\"labels\"],axis=1),valDataShuffle['labels'])"
      ],
      "execution_count": null,
      "outputs": [
        {
          "output_type": "execute_result",
          "data": {
            "text/plain": [
              "0.75"
            ]
          },
          "metadata": {},
          "execution_count": 44
        }
      ]
    },
    {
      "cell_type": "code",
      "metadata": {
        "colab": {
          "base_uri": "https://localhost:8080/"
        },
        "id": "yP7g8kLtUI6Y",
        "outputId": "35034b2e-cfc1-4759-e4f8-1a19aa6d1c52"
      },
      "source": [
        "best_svc = SVC()\n",
        "best_svc.fit(trainDataShuffle.drop([\"labels\"],axis=1), trainDataShuffle['labels'])\n",
        "best_svc.score(valDataShuffle.drop([\"labels\"],axis=1),valDataShuffle['labels'])"
      ],
      "execution_count": null,
      "outputs": [
        {
          "output_type": "execute_result",
          "data": {
            "text/plain": [
              "0.7516666666666667"
            ]
          },
          "metadata": {},
          "execution_count": 45
        }
      ]
    },
    {
      "cell_type": "code",
      "metadata": {
        "id": "rnC78BODhqlp",
        "colab": {
          "base_uri": "https://localhost:8080/"
        },
        "outputId": "4f209b59-645d-4f61-e821-a1e4f3d5f26e"
      },
      "source": [
        "scaler = ss()\n",
        "\n",
        "scaledTrain = scaler.fit_transform(trainDataShuffle.drop([\"labels\"],axis=1))\n",
        "scaledTrain.shape\n",
        "scaledVal = scaler.fit_transform(valDataShuffle.drop([\"labels\"],axis=1))\n",
        "\n",
        "\n",
        "rndst.fit(scaledTrain, trainDataShuffle['labels'])\n",
        "rndst.score(scaledVal,valDataShuffle['labels'])"
      ],
      "execution_count": null,
      "outputs": [
        {
          "output_type": "execute_result",
          "data": {
            "text/plain": [
              "0.8641666666666666"
            ]
          },
          "metadata": {},
          "execution_count": 46
        }
      ]
    },
    {
      "cell_type": "code",
      "metadata": {
        "id": "FnJjt62Xnoni"
      },
      "source": [
        "from sklearn.svm import SVC\n",
        "from sklearn import metrics\n",
        "svc=SVC(kernel='linear')\n",
        "svc.fit(scaledTrain, trainDataShuffle['labels'])\n",
        "predict=svc.predict(scaledVal)\n",
        "#rndst.score(predict,valData['labels'])\n",
        "print(metrics.accuracy_score(valDataShuffle['labels'],predict))"
      ],
      "execution_count": null,
      "outputs": []
    },
    {
      "cell_type": "code",
      "metadata": {
        "id": "EsaqJ63Rnrcd"
      },
      "source": [
        "from sklearn import metrics\n",
        "print(metrics.confusion_matrix(valDataShuffle['labels'],predict, labels=[0,1]))\n",
        "# Printing the precision and recall, among other metrics\n",
        "print(metrics.classification_report(valDataShuffle['labels'],predict, labels=[0,1]))"
      ],
      "execution_count": null,
      "outputs": []
    },
    {
      "cell_type": "code",
      "metadata": {
        "id": "saX2I_chjWFK",
        "colab": {
          "base_uri": "https://localhost:8080/"
        },
        "outputId": "cc86ac40-1aa8-44e0-d08c-35de4a43f5b3"
      },
      "source": [
        "#PCA maybe\n",
        "\n",
        "# from sklearn.decomposition import PCA\n",
        "# pca = PCA(n_components=1250)\n",
        "# pca.fit(trainDataShuffle.drop([\"labels\"],axis=1))\n",
        "# trainDataPCAed = pca.transform(scaledTrain)\n",
        "# valDataPCAed = pca.transform(scaledVal)\n",
        "\n",
        "# svc2=RandomForestClassifier(n_estimators=100)\n",
        "# svc2.fit(trainDataPCAed, trainDataShuffle['labels'])\n",
        "# svc2.score(valDataPCAed,valDataShuffle['labels'])\n",
        "\n",
        "# #pca is bad"
      ],
      "execution_count": null,
      "outputs": [
        {
          "output_type": "execute_result",
          "data": {
            "text/plain": [
              "0.8116666666666666"
            ]
          },
          "metadata": {},
          "execution_count": 55
        }
      ]
    },
    {
      "cell_type": "markdown",
      "metadata": {
        "id": "dBtbhzMXZKvL"
      },
      "source": [
        "###GridSearch"
      ]
    },
    {
      "cell_type": "code",
      "metadata": {
        "execution": {
          "iopub.status.busy": "2021-06-14T10:20:36.954894Z",
          "iopub.execute_input": "2021-06-14T10:20:36.955442Z",
          "iopub.status.idle": "2021-06-14T10:20:37.103523Z",
          "shell.execute_reply.started": "2021-06-14T10:20:36.955409Z",
          "shell.execute_reply": "2021-06-14T10:20:37.102238Z"
        },
        "trusted": true,
        "id": "hTlYxS9vMo2m"
      },
      "source": [
        "X_train = scaledTrain\n",
        "X_test = scaledVal\n",
        "y_train = trainDataShuffle[\"labels\"]\n",
        "y_test = valDataShuffle['labels']"
      ],
      "execution_count": null,
      "outputs": []
    },
    {
      "cell_type": "code",
      "metadata": {
        "papermill": {
          "duration": 2.753573,
          "end_time": "2021-06-01T16:29:09.218254",
          "exception": false,
          "start_time": "2021-06-01T16:29:06.464681",
          "status": "completed"
        },
        "tags": [],
        "execution": {
          "iopub.status.busy": "2021-06-14T10:20:37.106532Z",
          "iopub.execute_input": "2021-06-14T10:20:37.107029Z",
          "iopub.status.idle": "2021-06-14T10:20:37.404354Z",
          "shell.execute_reply.started": "2021-06-14T10:20:37.106978Z",
          "shell.execute_reply": "2021-06-14T10:20:37.403225Z"
        },
        "trusted": true,
        "id": "siCy5C27Mo2n"
      },
      "source": [
        "import xgboost as xgb\n",
        "from sklearn import preprocessing\n",
        "from sklearn.model_selection import train_test_split\n",
        "from sklearn.model_selection import GridSearchCV\n",
        "from sklearn.model_selection import StratifiedKFold, KFold\n",
        "from sklearn.linear_model import LogisticRegression\n",
        "from sklearn.svm import SVC\n",
        "from sklearn.ensemble import AdaBoostClassifier\n",
        "from sklearn.neighbors import KNeighborsClassifier\n",
        "import xgboost as xgb\n",
        "import lightgbm as lgbm\n",
        "\n",
        "from sklearn.naive_bayes import GaussianNB\n",
        "from sklearn.discriminant_analysis import QuadraticDiscriminantAnalysis\n",
        "\n",
        "from sklearn.neural_network import MLPClassifier\n",
        "from sklearn.neighbors import KNeighborsClassifier\n",
        "from sklearn.ensemble import GradientBoostingClassifier\n",
        "from sklearn.preprocessing import StandardScaler\n",
        "from sklearn.ensemble import RandomForestClassifier\n",
        "from sklearn.tree import DecisionTreeClassifier"
      ],
      "execution_count": null,
      "outputs": []
    },
    {
      "cell_type": "code",
      "metadata": {
        "execution": {
          "iopub.status.busy": "2021-06-14T10:20:37.408831Z",
          "iopub.execute_input": "2021-06-14T10:20:37.409166Z",
          "iopub.status.idle": "2021-06-14T10:20:37.414675Z",
          "shell.execute_reply.started": "2021-06-14T10:20:37.409135Z",
          "shell.execute_reply": "2021-06-14T10:20:37.413438Z"
        },
        "trusted": true,
        "id": "T-sQwKAYMo2r"
      },
      "source": [
        "SEED = 123\n",
        "cross_valid_scores = {}\n",
        "from sklearn.metrics import confusion_matrix\n",
        "from sklearn.metrics import accuracy_score\n",
        "from sklearn.metrics import plot_confusion_matrix\n",
        "from sklearn.metrics import roc_auc_score\n",
        "from sklearn.metrics import f1_score, make_scorer"
      ],
      "execution_count": null,
      "outputs": []
    },
    {
      "cell_type": "markdown",
      "metadata": {
        "id": "aIHS_ivnMo25"
      },
      "source": [
        "Decision Tree Classifier\n"
      ]
    },
    {
      "cell_type": "code",
      "metadata": {
        "papermill": {
          "duration": 1.317529,
          "end_time": "2021-06-01T16:29:11.018282",
          "exception": false,
          "start_time": "2021-06-01T16:29:09.700753",
          "status": "completed"
        },
        "tags": [],
        "execution": {
          "iopub.status.busy": "2021-06-14T10:21:24.232318Z",
          "iopub.execute_input": "2021-06-14T10:21:24.233009Z",
          "iopub.status.idle": "2021-06-14T10:21:59.920740Z",
          "shell.execute_reply.started": "2021-06-14T10:21:24.232956Z",
          "shell.execute_reply": "2021-06-14T10:21:59.919089Z"
        },
        "trusted": true,
        "id": "FQ7WO2qLMo26"
      },
      "source": [
        "%%time\n",
        "\n",
        "parameters = {\n",
        "    \"max_depth\": [3, 5, 21,51,101,181,300,450, 600],\n",
        "}\n",
        "\n",
        "model_desicion_tree = DecisionTreeClassifier(\n",
        "    random_state=SEED,\n",
        "    class_weight='balanced',\n",
        ")\n",
        "\n",
        "model_desicion_tree = GridSearchCV(\n",
        "    model_desicion_tree, \n",
        "    parameters, \n",
        "    cv=StratifiedKFold(n_splits=2),\n",
        "    scoring='f1_macro',\n",
        "    verbose = 10,\n",
        ")\n",
        "\n",
        "model_desicion_tree.fit(X_train, y_train)\n",
        "\n",
        "print('-----')\n",
        "print(f'Best parameters {model_desicion_tree.best_params_}')\n",
        "print(\n",
        "    f'Mean cross-validated  score of the best_estimator: ' + \\\n",
        "    f'{model_desicion_tree.best_score_:.3f}'\n",
        ")\n",
        "cross_valid_scores['desicion_tree'] = model_desicion_tree.best_score_\n",
        "print('-----')"
      ],
      "execution_count": null,
      "outputs": []
    },
    {
      "cell_type": "code",
      "metadata": {
        "papermill": {
          "duration": 0.289032,
          "end_time": "2021-06-01T16:29:11.355914",
          "exception": false,
          "start_time": "2021-06-01T16:29:11.066882",
          "status": "completed"
        },
        "tags": [],
        "execution": {
          "iopub.status.busy": "2021-06-14T10:21:59.922579Z",
          "iopub.execute_input": "2021-06-14T10:21:59.923028Z",
          "iopub.status.idle": "2021-06-14T10:22:00.120508Z",
          "shell.execute_reply.started": "2021-06-14T10:21:59.922978Z",
          "shell.execute_reply": "2021-06-14T10:22:00.118382Z"
        },
        "trusted": true,
        "id": "xOPJOQlCMo27"
      },
      "source": [
        "\n",
        "res = pd.concat([pd.DataFrame(model_desicion_tree.cv_results_[\"params\"]),pd.DataFrame(model_desicion_tree.cv_results_[\"mean_test_score\"], columns=[\"AUC_ROC\"])],axis=1)\n",
        "\n",
        "y_pred = model_desicion_tree.best_estimator_.predict( X_test)\n",
        "print(accuracy_score(y_test, y_pred))\n",
        "y_pred_proba = model_desicion_tree.best_estimator_.predict_proba( X_test)\n",
        "print(roc_auc_score(y_test, y_pred))\n",
        "res"
      ],
      "execution_count": null,
      "outputs": []
    },
    {
      "cell_type": "markdown",
      "metadata": {
        "id": "aMrsQnxpMo28"
      },
      "source": [
        "# Random Forest Classifier"
      ]
    },
    {
      "cell_type": "code",
      "metadata": {
        "papermill": {
          "duration": 85.09993,
          "end_time": "2021-06-01T16:30:36.611199",
          "exception": false,
          "start_time": "2021-06-01T16:29:11.511269",
          "status": "completed"
        },
        "tags": [],
        "execution": {
          "iopub.status.busy": "2021-06-14T11:05:19.160045Z",
          "iopub.execute_input": "2021-06-14T11:05:19.160474Z",
          "iopub.status.idle": "2021-06-14T11:23:52.037371Z",
          "shell.execute_reply.started": "2021-06-14T11:05:19.160439Z",
          "shell.execute_reply": "2021-06-14T11:23:52.036185Z"
        },
        "trusted": true,
        "id": "RrUqiU1VMo28"
      },
      "source": [
        "\n",
        "%%time\n",
        "parameters = {\n",
        "    \"n_estimators\": [ 1800,2000, 2500], \n",
        "    \"max_depth\": [  9, 11,13],\n",
        "}\n",
        "\n",
        "model_random_forest = RandomForestClassifier(\n",
        "    random_state=SEED,\n",
        "    class_weight='balanced',\n",
        ")\n",
        "\n",
        "model_random_forest = GridSearchCV(\n",
        "    model_random_forest, \n",
        "    parameters, \n",
        "    cv=StratifiedKFold(n_splits=2),\n",
        "    scoring='roc_auc_ovr',\n",
        "    verbose = 10,\n",
        ")\n",
        "\n",
        "model_random_forest.fit(X_train, y_train)\n",
        "\n",
        "print('-----')\n",
        "print(f'Best parameters {model_random_forest.best_params_}')\n",
        "print(\n",
        "    f'Mean cross-validated accuracy score of the best_estimator: '+ \\\n",
        "    f'{model_random_forest.best_score_:.3f}'\n",
        ")\n",
        "cross_valid_scores['random_forest'] = model_random_forest.best_score_\n",
        "print('-----')"
      ],
      "execution_count": null,
      "outputs": []
    },
    {
      "cell_type": "code",
      "metadata": {
        "papermill": {
          "duration": 0.513828,
          "end_time": "2021-06-01T16:30:37.175182",
          "exception": false,
          "start_time": "2021-06-01T16:30:36.661354",
          "status": "completed"
        },
        "tags": [],
        "execution": {
          "iopub.status.busy": "2021-06-14T10:55:11.298341Z",
          "iopub.execute_input": "2021-06-14T10:55:11.298770Z",
          "iopub.status.idle": "2021-06-14T10:55:15.113066Z",
          "shell.execute_reply.started": "2021-06-14T10:55:11.298727Z",
          "shell.execute_reply": "2021-06-14T10:55:15.112233Z"
        },
        "trusted": true,
        "id": "xYyvMuPRMo29"
      },
      "source": [
        "\n",
        "res = pd.concat([pd.DataFrame(model_random_forest.cv_results_[\"params\"]),pd.DataFrame(model_random_forest.cv_results_[\"mean_test_score\"], columns=[\"AUC_ROC\"])],axis=1)\n",
        "\n",
        "y_pred = model_random_forest.best_estimator_.predict( X_test)\n",
        "print(accuracy_score(y_test, y_pred))\n",
        "y_pred_proba = model_random_forest.best_estimator_.predict_proba( X_test)\n",
        "print(roc_auc_score(y_test, y_pred))\n",
        "res"
      ],
      "execution_count": null,
      "outputs": []
    },
    {
      "cell_type": "markdown",
      "metadata": {
        "id": "dQ4gSV03Mo2-"
      },
      "source": [
        "ADABOOST"
      ]
    },
    {
      "cell_type": "code",
      "metadata": {
        "papermill": {
          "duration": 200.55532,
          "end_time": "2021-06-01T16:33:57.781614",
          "exception": false,
          "start_time": "2021-06-01T16:30:37.226294",
          "status": "completed"
        },
        "tags": [],
        "execution": {
          "iopub.status.busy": "2021-06-14T10:51:18.315465Z",
          "iopub.execute_input": "2021-06-14T10:51:18.315789Z",
          "iopub.status.idle": "2021-06-14T10:55:09.178104Z",
          "shell.execute_reply.started": "2021-06-14T10:51:18.315755Z",
          "shell.execute_reply": "2021-06-14T10:55:09.176981Z"
        },
        "trusted": true,
        "id": "17JOEG19Mo2-"
      },
      "source": [
        "%%time\n",
        "parameters = {\n",
        "    \"n_estimators\": [ 10,100, 300], \n",
        "    \"learning_rate\": [ 0.1, 0.5, 1.1, 1.2, 1.3 ],\n",
        "}\n",
        "\n",
        "model_adaboost = AdaBoostClassifier(\n",
        "    random_state=SEED,\n",
        ")\n",
        "\n",
        "model_adaboost = GridSearchCV(\n",
        "    model_adaboost, \n",
        "    parameters, \n",
        "    cv=StratifiedKFold(n_splits=2,shuffle = True, random_state= SEED),\n",
        "    scoring='roc_auc_ovr',\n",
        "    verbose = 10,\n",
        ")\n",
        "\n",
        "model_adaboost.fit(X_train, y_train)\n",
        "\n",
        "print('-----')\n",
        "print(f'Best parameters {model_adaboost.best_params_}')\n",
        "print(\n",
        "    f'Mean cross-validated accuracy score of the best_estimator: '+ \\\n",
        "    f'{model_adaboost.best_score_:.3f}'\n",
        ")\n",
        "cross_valid_scores['ada_boost'] = model_adaboost.best_score_\n",
        "print('-----')"
      ],
      "execution_count": null,
      "outputs": []
    },
    {
      "cell_type": "code",
      "metadata": {
        "papermill": {
          "duration": 0.413406,
          "end_time": "2021-06-01T16:33:58.449449",
          "exception": false,
          "start_time": "2021-06-01T16:33:58.036043",
          "status": "completed"
        },
        "tags": [],
        "execution": {
          "iopub.status.busy": "2021-06-14T10:55:09.179576Z",
          "iopub.execute_input": "2021-06-14T10:55:09.179884Z",
          "iopub.status.idle": "2021-06-14T10:55:11.296891Z",
          "shell.execute_reply.started": "2021-06-14T10:55:09.179855Z",
          "shell.execute_reply": "2021-06-14T10:55:11.295871Z"
        },
        "trusted": true,
        "id": "ytGgdMv8Mo2_"
      },
      "source": [
        "\n",
        "res = pd.concat([pd.DataFrame(model_adaboost.cv_results_[\"params\"]),pd.DataFrame(model_adaboost.cv_results_[\"mean_test_score\"], columns=[\"AUC_ROC\"])],axis=1)\n",
        "\n",
        "y_pred = model_adaboost.best_estimator_.predict( X_test)\n",
        "print(accuracy_score(y_test, y_pred))\n",
        "y_pred_proba = model_adaboost.best_estimator_.predict_proba( X_test)\n",
        "print(roc_auc_score(y_test, y_pred))\n",
        "res"
      ],
      "execution_count": null,
      "outputs": []
    },
    {
      "cell_type": "markdown",
      "metadata": {
        "papermill": {
          "duration": 0.176885,
          "end_time": "2021-06-01T18:54:16.194001",
          "exception": false,
          "start_time": "2021-06-01T18:54:16.017116",
          "status": "completed"
        },
        "tags": [],
        "id": "79Z3qMuaMo3A"
      },
      "source": [
        "SVC"
      ]
    },
    {
      "cell_type": "code",
      "metadata": {
        "papermill": {
          "duration": 5.04068,
          "end_time": "2021-06-01T18:54:21.346658",
          "exception": false,
          "start_time": "2021-06-01T18:54:16.305978",
          "status": "completed"
        },
        "tags": [],
        "execution": {
          "iopub.status.busy": "2021-06-14T10:32:19.176236Z",
          "iopub.execute_input": "2021-06-14T10:32:19.176579Z",
          "iopub.status.idle": "2021-06-14T10:33:34.865628Z",
          "shell.execute_reply.started": "2021-06-14T10:32:19.176548Z",
          "shell.execute_reply": "2021-06-14T10:33:34.864583Z"
        },
        "trusted": true,
        "id": "xquAyMAkMo3A",
        "colab": {
          "base_uri": "https://localhost:8080/"
        },
        "outputId": "7a7317f2-505a-40b9-e059-ad0c0498edf5"
      },
      "source": [
        "%%time\n",
        "parameters = {\n",
        "    \"C\": [ 20, 50,100],\n",
        "    \"kernel\": [\"linear\", \"poly\", \"rbf\", \"sigmoid\"],\n",
        "}\n",
        "\n",
        "model_svc = SVC(\n",
        "    random_state=SEED,\n",
        "    class_weight=\"balanced\",\n",
        "    probability=True,\n",
        ")\n",
        "\n",
        "model_svc = GridSearchCV(\n",
        "    model_svc, \n",
        "    parameters, \n",
        "    cv=StratifiedKFold(n_splits=2),\n",
        "    scoring='roc_auc_ovr',\n",
        "    verbose = 10,\n",
        ")\n",
        "\n",
        "model_svc.fit(X_train, y_train)\n",
        "\n",
        "print('-----')\n",
        "print(f'Best parameters {model_svc.best_params_}')\n",
        "print(\n",
        "    f'Mean cross-validated accuracy score of the best_estimator: ' + \n",
        "    f'{model_svc.best_score_:.3f}'\n",
        ")\n",
        "cross_valid_scores['svc'] = model_svc.best_score_\n",
        "print('-----')"
      ],
      "execution_count": null,
      "outputs": [
        {
          "metadata": {
            "tags": null
          },
          "name": "stdout",
          "output_type": "stream",
          "text": [
            "Fitting 2 folds for each of 12 candidates, totalling 24 fits\n",
            "[CV] C=20, kernel=linear .............................................\n"
          ]
        },
        {
          "metadata": {
            "tags": null
          },
          "name": "stderr",
          "output_type": "stream",
          "text": [
            "[Parallel(n_jobs=1)]: Using backend SequentialBackend with 1 concurrent workers.\n"
          ]
        },
        {
          "output_type": "stream",
          "name": "stdout",
          "text": [
            "[CV] ................. C=20, kernel=linear, score=0.863, total=20.6min\n",
            "[CV] C=20, kernel=linear .............................................\n"
          ]
        },
        {
          "output_type": "stream",
          "name": "stderr",
          "text": [
            "[Parallel(n_jobs=1)]: Done   1 out of   1 | elapsed: 20.6min remaining:    0.0s\n"
          ]
        }
      ]
    },
    {
      "cell_type": "code",
      "metadata": {
        "papermill": {
          "duration": 0.334041,
          "end_time": "2021-06-01T18:54:21.795518",
          "exception": false,
          "start_time": "2021-06-01T18:54:21.461477",
          "status": "completed"
        },
        "tags": [],
        "execution": {
          "iopub.status.busy": "2021-06-14T10:33:34.866746Z",
          "iopub.execute_input": "2021-06-14T10:33:34.867036Z",
          "iopub.status.idle": "2021-06-14T10:33:39.518591Z",
          "shell.execute_reply.started": "2021-06-14T10:33:34.867008Z",
          "shell.execute_reply": "2021-06-14T10:33:39.517541Z"
        },
        "trusted": true,
        "id": "SGvuEFi_Mo3B"
      },
      "source": [
        "res = pd.concat([pd.DataFrame(model_svc.cv_results_[\"params\"]),pd.DataFrame(model_svc.cv_results_[\"mean_test_score\"], columns=[\"AUC_ROC\"])],axis=1)\n",
        "\n",
        "y_pred = model_svc.best_estimator_.predict( X_test)\n",
        "print(accuracy_score(y_test, y_pred))\n",
        "y_pred_proba = model_svc.best_estimator_.predict_proba( X_test)\n",
        "print(roc_auc_score(y_test, y_pred))\n",
        "res "
      ],
      "execution_count": null,
      "outputs": []
    },
    {
      "cell_type": "markdown",
      "metadata": {
        "papermill": {
          "duration": 0.118217,
          "end_time": "2021-06-01T18:54:32.387428",
          "exception": false,
          "start_time": "2021-06-01T18:54:32.269211",
          "status": "completed"
        },
        "tags": [],
        "id": "1EN3057TMo3C"
      },
      "source": [
        "GaussianNB"
      ]
    },
    {
      "cell_type": "code",
      "metadata": {
        "papermill": {
          "duration": 2.301506,
          "end_time": "2021-06-01T18:54:34.807779",
          "exception": false,
          "start_time": "2021-06-01T18:54:32.506273",
          "status": "completed"
        },
        "tags": [],
        "execution": {
          "iopub.status.busy": "2021-06-14T10:33:39.519906Z",
          "iopub.execute_input": "2021-06-14T10:33:39.520208Z",
          "iopub.status.idle": "2021-06-14T10:34:07.800741Z",
          "shell.execute_reply.started": "2021-06-14T10:33:39.520165Z",
          "shell.execute_reply": "2021-06-14T10:34:07.799455Z"
        },
        "trusted": true,
        "id": "p4-VP-wRMo3C"
      },
      "source": [
        "%%time\n",
        "parameters =  {'var_smoothing': np.logspace(0,-9, num=100)}\n",
        "\n",
        "model_gaussianNB = GaussianNB()\n",
        "\n",
        "model_gaussianNB = GridSearchCV(\n",
        "    model_gaussianNB, \n",
        "    parameters, \n",
        "    cv=StratifiedKFold(n_splits=2),\n",
        "    scoring='roc_auc_ovr',\n",
        "    verbose = 10,\n",
        "    n_jobs = -1\n",
        ")\n",
        "\n",
        "model_gaussianNB.fit(X_train, y_train)\n",
        "\n",
        "print('-----')\n",
        "print(f'Best parameters {model_gaussianNB.best_params_}')\n",
        "print(\n",
        "    f'Mean cross-validated accuracy score of the best_estimator: ' + \n",
        "    f'{model_gaussianNB.best_score_:.3f}'\n",
        ")\n",
        "cross_valid_scores['svc'] = model_gaussianNB.best_score_\n",
        "print('-----')"
      ],
      "execution_count": null,
      "outputs": []
    },
    {
      "cell_type": "code",
      "metadata": {
        "papermill": {
          "duration": 0.320215,
          "end_time": "2021-06-01T18:54:35.248065",
          "exception": false,
          "start_time": "2021-06-01T18:54:34.92785",
          "status": "completed"
        },
        "tags": [],
        "execution": {
          "iopub.status.busy": "2021-06-14T10:34:07.802325Z",
          "iopub.execute_input": "2021-06-14T10:34:07.802659Z",
          "iopub.status.idle": "2021-06-14T10:34:08.371927Z",
          "shell.execute_reply.started": "2021-06-14T10:34:07.802627Z",
          "shell.execute_reply": "2021-06-14T10:34:08.370953Z"
        },
        "trusted": true,
        "id": "qaQKxZlMMo3F"
      },
      "source": [
        "res = pd.concat([pd.DataFrame(model_gaussianNB.cv_results_[\"params\"]),pd.DataFrame(model_gaussianNB.cv_results_[\"mean_test_score\"], columns=[\"AUC_ROC\"])],axis=1)\n",
        "\n",
        "y_pred = model_gaussianNB.best_estimator_.predict( X_test)\n",
        "print(accuracy_score(y_test, y_pred))\n",
        "y_pred_proba = model_gaussianNB.best_estimator_.predict_proba( X_test)\n",
        "print(roc_auc_score(y_test, y_pred))\n",
        "res"
      ],
      "execution_count": null,
      "outputs": []
    },
    {
      "cell_type": "markdown",
      "metadata": {
        "papermill": {
          "duration": 0.123869,
          "end_time": "2021-06-01T18:55:30.260825",
          "exception": false,
          "start_time": "2021-06-01T18:55:30.136956",
          "status": "completed"
        },
        "tags": [],
        "id": "xe9fRAyNMo3H"
      },
      "source": [
        "KNeighborsClassifier\n"
      ]
    },
    {
      "cell_type": "code",
      "metadata": {
        "papermill": {
          "duration": 1.019937,
          "end_time": "2021-06-01T18:55:31.404373",
          "exception": false,
          "start_time": "2021-06-01T18:55:30.384436",
          "status": "completed"
        },
        "tags": [],
        "execution": {
          "iopub.status.busy": "2021-06-14T10:34:08.373385Z",
          "iopub.execute_input": "2021-06-14T10:34:08.373671Z",
          "iopub.status.idle": "2021-06-14T10:34:09.531491Z",
          "shell.execute_reply.started": "2021-06-14T10:34:08.373644Z",
          "shell.execute_reply": "2021-06-14T10:34:09.530708Z"
        },
        "trusted": true,
        "id": "Y6yDGnrvMo3H"
      },
      "source": [
        "%%time\n",
        "parameters =    {\n",
        "        'n_neighbors': [3, 5, 7, 9] # usually odd numbers\n",
        "    }\n",
        "\n",
        "model_KNN =  KNeighborsClassifier()\n",
        "\n",
        "model_KNN = GridSearchCV(\n",
        "    model_KNN, \n",
        "    parameters, \n",
        "    cv=StratifiedKFold(n_splits=2),\n",
        "    scoring='roc_auc_ovr',\n",
        "    verbose = 10,\n",
        "    n_jobs = -1\n",
        " \n",
        ")\n",
        "\n",
        "model_KNN.fit(X_train, y_train)\n",
        "\n",
        "print('-----')\n",
        "print(f'Best parameters {model_KNN.best_params_}')\n",
        "print(\n",
        "    f'Mean cross-validated accuracy score of the best_estimator: ' + \n",
        "    f'{model_KNN.best_score_:.3f}'\n",
        ")\n",
        "cross_valid_scores['svc'] = model_KNN.best_score_\n",
        "print('-----')\n",
        "\n",
        "res = pd.concat([pd.DataFrame(model_KNN.cv_results_[\"params\"]),pd.DataFrame(model_KNN.cv_results_[\"mean_test_score\"], columns=[\"AUC_ROC\"])],axis=1)\n",
        "\n",
        "y_pred = model_KNN.best_estimator_.predict( X_test)\n",
        "print(accuracy_score(y_test, y_pred))\n",
        "y_pred_proba = model_KNN.best_estimator_.predict_proba( X_test)\n",
        "print(roc_auc_score(y_test, y_pred))\n",
        "res"
      ],
      "execution_count": null,
      "outputs": []
    },
    {
      "cell_type": "code",
      "metadata": {
        "id": "YDwWhBN8Mo3I"
      },
      "source": [
        ""
      ],
      "execution_count": null,
      "outputs": []
    }
  ]
}